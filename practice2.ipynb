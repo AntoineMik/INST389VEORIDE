{
 "metadata": {
  "language_info": {
   "codemirror_mode": {
    "name": "ipython",
    "version": 3
   },
   "file_extension": ".py",
   "mimetype": "text/x-python",
   "name": "python",
   "nbconvert_exporter": "python",
   "pygments_lexer": "ipython3",
   "version": "3.8.1"
  },
  "orig_nbformat": 2,
  "kernelspec": {
   "name": "python3",
   "display_name": "Python 3.8.1 64-bit ('3.8')"
  },
  "metadata": {
   "interpreter": {
    "hash": "2db524e06e9f5f4ffedc911c917cb75e12dbc923643829bf417064a77eb14d37"
   }
  },
  "interpreter": {
   "hash": "082e9a3bcad0a290d0001e938aa60b99250c6c2ef33a923c00b70f9826caf4b7"
  }
 },
 "nbformat": 4,
 "nbformat_minor": 2,
 "cells": [
  {
   "cell_type": "code",
   "execution_count": 1,
   "metadata": {},
   "outputs": [],
   "source": [
    "import pandas as pd\n",
    "import numpy as np"
   ]
  },
  {
   "source": [
    "Importing the data as a dataframe."
   ],
   "cell_type": "markdown",
   "metadata": {}
  },
  {
   "cell_type": "code",
   "execution_count": 2,
   "metadata": {},
   "outputs": [],
   "source": [
    "dataset = pd.read_csv(\"data/Data_Lv3_UMDOTS_Escooters.csv\")"
   ]
  },
  {
   "source": [
    "Lets take a look at a few data point"
   ],
   "cell_type": "markdown",
   "metadata": {}
  },
  {
   "cell_type": "code",
   "execution_count": 3,
   "metadata": {},
   "outputs": [
    {
     "output_type": "execute_result",
     "data": {
      "text/plain": [
       "       Unnamed: 0  Unnamed: 0.1                    CREATED  \\\n",
       "40320       40320         40320  2020-10-24 22:21:40+00:00   \n",
       "40321       40321         40321  2020-10-24 21:28:43+00:00   \n",
       "40322       40322         40322  2020-10-25 01:22:00+00:00   \n",
       "40323       40323         40323  2020-10-25 00:55:24+00:00   \n",
       "40324       40324         40324  2020-10-24 06:03:05+00:00   \n",
       "\n",
       "                           START                        END  DISTANCE  \\\n",
       "40320  2020-10-24 22:21:40+00:00  2020-10-24 22:26:38+00:00     0.794   \n",
       "40321  2020-10-24 21:28:43+00:00  2020-10-24 21:32:54+00:00     0.404   \n",
       "40322  2020-10-25 01:22:00+00:00  2020-10-25 01:26:16+00:00     0.629   \n",
       "40323  2020-10-25 00:55:24+00:00  2020-10-25 01:07:38+00:00     0.567   \n",
       "40324  2020-10-24 06:03:05+00:00  2020-10-24 06:38:05+00:00     5.220   \n",
       "\n",
       "       RIDE_ID  CUSTOMER_ID  MINUTES VEHICLE_TYPE  \\\n",
       "40320  3304114       322401        5      Scooter   \n",
       "40321  3303630       298095        5      Scooter   \n",
       "40322  3305589       604319        5      Scooter   \n",
       "40323  3305336       610943       13      Scooter   \n",
       "40324  3299791       324757       35      Scooter   \n",
       "\n",
       "                                                    PATH  \\\n",
       "40320  {\\n  \"coordinates\": [\\n    [\\n      -76.943936...   \n",
       "40321  {\\n  \"coordinates\": [\\n    [\\n      -76.935917...   \n",
       "40322  {\\n  \"coordinates\": [\\n    [\\n      -76.940231...   \n",
       "40323  {\\n  \"coordinates\": [\\n    [\\n      -76.944152...   \n",
       "40324  {\\n  \"coordinates\": [\\n    [\\n      -76.934166...   \n",
       "\n",
       "                                              TIMESTAMPS  START LONG  \\\n",
       "40320  [\\n  \"2020-10-24T22:21:46Z\",\\n  \"2020-10-24T22...  -76.943937   \n",
       "40321  [\\n  \"2020-10-24T21:28:49Z\",\\n  \"2020-10-24T21...  -76.935917   \n",
       "40322  [\\n  \"2020-10-25T01:22:07Z\",\\n  \"2020-10-25T01...  -76.940231   \n",
       "40323  [\\n  \"2020-10-25T00:55:30Z\",\\n  \"2020-10-25T00...  -76.944153   \n",
       "40324  [\\n  \"2020-10-24T06:03:12Z\",\\n  \"2020-10-24T06...  -76.934167   \n",
       "\n",
       "       START LAT   END LONG    END LAT  \n",
       "40320  38.988110 -76.934104  38.992061  \n",
       "40321  38.986389 -76.933818  38.992196  \n",
       "40322  38.996377 -76.945600  38.992842  \n",
       "40323  38.991956 -76.940216  38.987199  \n",
       "40324  38.990645 -76.936088  38.982452  "
      ],
      "text/html": "<div>\n<style scoped>\n    .dataframe tbody tr th:only-of-type {\n        vertical-align: middle;\n    }\n\n    .dataframe tbody tr th {\n        vertical-align: top;\n    }\n\n    .dataframe thead th {\n        text-align: right;\n    }\n</style>\n<table border=\"1\" class=\"dataframe\">\n  <thead>\n    <tr style=\"text-align: right;\">\n      <th></th>\n      <th>Unnamed: 0</th>\n      <th>Unnamed: 0.1</th>\n      <th>CREATED</th>\n      <th>START</th>\n      <th>END</th>\n      <th>DISTANCE</th>\n      <th>RIDE_ID</th>\n      <th>CUSTOMER_ID</th>\n      <th>MINUTES</th>\n      <th>VEHICLE_TYPE</th>\n      <th>PATH</th>\n      <th>TIMESTAMPS</th>\n      <th>START LONG</th>\n      <th>START LAT</th>\n      <th>END LONG</th>\n      <th>END LAT</th>\n    </tr>\n  </thead>\n  <tbody>\n    <tr>\n      <th>40320</th>\n      <td>40320</td>\n      <td>40320</td>\n      <td>2020-10-24 22:21:40+00:00</td>\n      <td>2020-10-24 22:21:40+00:00</td>\n      <td>2020-10-24 22:26:38+00:00</td>\n      <td>0.794</td>\n      <td>3304114</td>\n      <td>322401</td>\n      <td>5</td>\n      <td>Scooter</td>\n      <td>{\\n  \"coordinates\": [\\n    [\\n      -76.943936...</td>\n      <td>[\\n  \"2020-10-24T22:21:46Z\",\\n  \"2020-10-24T22...</td>\n      <td>-76.943937</td>\n      <td>38.988110</td>\n      <td>-76.934104</td>\n      <td>38.992061</td>\n    </tr>\n    <tr>\n      <th>40321</th>\n      <td>40321</td>\n      <td>40321</td>\n      <td>2020-10-24 21:28:43+00:00</td>\n      <td>2020-10-24 21:28:43+00:00</td>\n      <td>2020-10-24 21:32:54+00:00</td>\n      <td>0.404</td>\n      <td>3303630</td>\n      <td>298095</td>\n      <td>5</td>\n      <td>Scooter</td>\n      <td>{\\n  \"coordinates\": [\\n    [\\n      -76.935917...</td>\n      <td>[\\n  \"2020-10-24T21:28:49Z\",\\n  \"2020-10-24T21...</td>\n      <td>-76.935917</td>\n      <td>38.986389</td>\n      <td>-76.933818</td>\n      <td>38.992196</td>\n    </tr>\n    <tr>\n      <th>40322</th>\n      <td>40322</td>\n      <td>40322</td>\n      <td>2020-10-25 01:22:00+00:00</td>\n      <td>2020-10-25 01:22:00+00:00</td>\n      <td>2020-10-25 01:26:16+00:00</td>\n      <td>0.629</td>\n      <td>3305589</td>\n      <td>604319</td>\n      <td>5</td>\n      <td>Scooter</td>\n      <td>{\\n  \"coordinates\": [\\n    [\\n      -76.940231...</td>\n      <td>[\\n  \"2020-10-25T01:22:07Z\",\\n  \"2020-10-25T01...</td>\n      <td>-76.940231</td>\n      <td>38.996377</td>\n      <td>-76.945600</td>\n      <td>38.992842</td>\n    </tr>\n    <tr>\n      <th>40323</th>\n      <td>40323</td>\n      <td>40323</td>\n      <td>2020-10-25 00:55:24+00:00</td>\n      <td>2020-10-25 00:55:24+00:00</td>\n      <td>2020-10-25 01:07:38+00:00</td>\n      <td>0.567</td>\n      <td>3305336</td>\n      <td>610943</td>\n      <td>13</td>\n      <td>Scooter</td>\n      <td>{\\n  \"coordinates\": [\\n    [\\n      -76.944152...</td>\n      <td>[\\n  \"2020-10-25T00:55:30Z\",\\n  \"2020-10-25T00...</td>\n      <td>-76.944153</td>\n      <td>38.991956</td>\n      <td>-76.940216</td>\n      <td>38.987199</td>\n    </tr>\n    <tr>\n      <th>40324</th>\n      <td>40324</td>\n      <td>40324</td>\n      <td>2020-10-24 06:03:05+00:00</td>\n      <td>2020-10-24 06:03:05+00:00</td>\n      <td>2020-10-24 06:38:05+00:00</td>\n      <td>5.220</td>\n      <td>3299791</td>\n      <td>324757</td>\n      <td>35</td>\n      <td>Scooter</td>\n      <td>{\\n  \"coordinates\": [\\n    [\\n      -76.934166...</td>\n      <td>[\\n  \"2020-10-24T06:03:12Z\",\\n  \"2020-10-24T06...</td>\n      <td>-76.934167</td>\n      <td>38.990645</td>\n      <td>-76.936088</td>\n      <td>38.982452</td>\n    </tr>\n  </tbody>\n</table>\n</div>"
     },
     "metadata": {},
     "execution_count": 3
    }
   ],
   "source": [
    "#dataset.head()\n",
    "dataset.tail()"
   ]
  },
  {
   "cell_type": "code",
   "execution_count": 4,
   "metadata": {},
   "outputs": [
    {
     "output_type": "execute_result",
     "data": {
      "text/plain": [
       "(40325, 16)"
      ]
     },
     "metadata": {},
     "execution_count": 4
    }
   ],
   "source": [
    "dataset.shape"
   ]
  },
  {
   "cell_type": "code",
   "execution_count": null,
   "metadata": {},
   "outputs": [],
   "source": []
  }
 ]
}