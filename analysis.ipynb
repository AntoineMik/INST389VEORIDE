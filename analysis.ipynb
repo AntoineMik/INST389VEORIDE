{
 "metadata": {
  "language_info": {
   "codemirror_mode": {
    "name": "ipython",
    "version": 3
   },
   "file_extension": ".py",
   "mimetype": "text/x-python",
   "name": "python",
   "nbconvert_exporter": "python",
   "pygments_lexer": "ipython3",
   "version": "3.8.1"
  },
  "orig_nbformat": 2,
  "kernelspec": {
   "name": "python3",
   "display_name": "Python 3.8.1 64-bit ('3.8')"
  },
  "metadata": {
   "interpreter": {
    "hash": "2db524e06e9f5f4ffedc911c917cb75e12dbc923643829bf417064a77eb14d37"
   }
  },
  "interpreter": {
   "hash": "082e9a3bcad0a290d0001e938aa60b99250c6c2ef33a923c00b70f9826caf4b7"
  }
 },
 "nbformat": 4,
 "nbformat_minor": 2,
 "cells": [
  {
   "cell_type": "code",
   "execution_count": 2,
   "metadata": {},
   "outputs": [],
   "source": [
    "import pandas as pd\n",
    "import numpy as np\n",
    "import json"
   ]
  },
  {
   "source": [
    "Importing the data as a dataframe."
   ],
   "cell_type": "markdown",
   "metadata": {}
  },
  {
   "cell_type": "code",
   "execution_count": 3,
   "metadata": {},
   "outputs": [],
   "source": [
    "dataset = pd.read_csv(\"data/Data_Lv3_UMDOTS_Escooters.csv\")"
   ]
  },
  {
   "source": [
    "Lets take a look at a few data point"
   ],
   "cell_type": "markdown",
   "metadata": {}
  },
  {
   "cell_type": "code",
   "execution_count": 4,
   "metadata": {},
   "outputs": [
    {
     "output_type": "execute_result",
     "data": {
      "text/plain": [
       "       Unnamed: 0  Unnamed: 0.1                    CREATED  \\\n",
       "40320       40320         40320  2020-10-24 22:21:40+00:00   \n",
       "40321       40321         40321  2020-10-24 21:28:43+00:00   \n",
       "40322       40322         40322  2020-10-25 01:22:00+00:00   \n",
       "40323       40323         40323  2020-10-25 00:55:24+00:00   \n",
       "40324       40324         40324  2020-10-24 06:03:05+00:00   \n",
       "\n",
       "                           START                        END  DISTANCE  \\\n",
       "40320  2020-10-24 22:21:40+00:00  2020-10-24 22:26:38+00:00     0.794   \n",
       "40321  2020-10-24 21:28:43+00:00  2020-10-24 21:32:54+00:00     0.404   \n",
       "40322  2020-10-25 01:22:00+00:00  2020-10-25 01:26:16+00:00     0.629   \n",
       "40323  2020-10-25 00:55:24+00:00  2020-10-25 01:07:38+00:00     0.567   \n",
       "40324  2020-10-24 06:03:05+00:00  2020-10-24 06:38:05+00:00     5.220   \n",
       "\n",
       "       RIDE_ID  CUSTOMER_ID  MINUTES VEHICLE_TYPE  \\\n",
       "40320  3304114       322401        5      Scooter   \n",
       "40321  3303630       298095        5      Scooter   \n",
       "40322  3305589       604319        5      Scooter   \n",
       "40323  3305336       610943       13      Scooter   \n",
       "40324  3299791       324757       35      Scooter   \n",
       "\n",
       "                                                    PATH  \\\n",
       "40320  {\\n  \"coordinates\": [\\n    [\\n      -76.943936...   \n",
       "40321  {\\n  \"coordinates\": [\\n    [\\n      -76.935917...   \n",
       "40322  {\\n  \"coordinates\": [\\n    [\\n      -76.940231...   \n",
       "40323  {\\n  \"coordinates\": [\\n    [\\n      -76.944152...   \n",
       "40324  {\\n  \"coordinates\": [\\n    [\\n      -76.934166...   \n",
       "\n",
       "                                              TIMESTAMPS  START LONG  \\\n",
       "40320  [\\n  \"2020-10-24T22:21:46Z\",\\n  \"2020-10-24T22...  -76.943937   \n",
       "40321  [\\n  \"2020-10-24T21:28:49Z\",\\n  \"2020-10-24T21...  -76.935917   \n",
       "40322  [\\n  \"2020-10-25T01:22:07Z\",\\n  \"2020-10-25T01...  -76.940231   \n",
       "40323  [\\n  \"2020-10-25T00:55:30Z\",\\n  \"2020-10-25T00...  -76.944153   \n",
       "40324  [\\n  \"2020-10-24T06:03:12Z\",\\n  \"2020-10-24T06...  -76.934167   \n",
       "\n",
       "       START LAT   END LONG    END LAT  \n",
       "40320  38.988110 -76.934104  38.992061  \n",
       "40321  38.986389 -76.933818  38.992196  \n",
       "40322  38.996377 -76.945600  38.992842  \n",
       "40323  38.991956 -76.940216  38.987199  \n",
       "40324  38.990645 -76.936088  38.982452  "
      ],
      "text/html": "<div>\n<style scoped>\n    .dataframe tbody tr th:only-of-type {\n        vertical-align: middle;\n    }\n\n    .dataframe tbody tr th {\n        vertical-align: top;\n    }\n\n    .dataframe thead th {\n        text-align: right;\n    }\n</style>\n<table border=\"1\" class=\"dataframe\">\n  <thead>\n    <tr style=\"text-align: right;\">\n      <th></th>\n      <th>Unnamed: 0</th>\n      <th>Unnamed: 0.1</th>\n      <th>CREATED</th>\n      <th>START</th>\n      <th>END</th>\n      <th>DISTANCE</th>\n      <th>RIDE_ID</th>\n      <th>CUSTOMER_ID</th>\n      <th>MINUTES</th>\n      <th>VEHICLE_TYPE</th>\n      <th>PATH</th>\n      <th>TIMESTAMPS</th>\n      <th>START LONG</th>\n      <th>START LAT</th>\n      <th>END LONG</th>\n      <th>END LAT</th>\n    </tr>\n  </thead>\n  <tbody>\n    <tr>\n      <th>40320</th>\n      <td>40320</td>\n      <td>40320</td>\n      <td>2020-10-24 22:21:40+00:00</td>\n      <td>2020-10-24 22:21:40+00:00</td>\n      <td>2020-10-24 22:26:38+00:00</td>\n      <td>0.794</td>\n      <td>3304114</td>\n      <td>322401</td>\n      <td>5</td>\n      <td>Scooter</td>\n      <td>{\\n  \"coordinates\": [\\n    [\\n      -76.943936...</td>\n      <td>[\\n  \"2020-10-24T22:21:46Z\",\\n  \"2020-10-24T22...</td>\n      <td>-76.943937</td>\n      <td>38.988110</td>\n      <td>-76.934104</td>\n      <td>38.992061</td>\n    </tr>\n    <tr>\n      <th>40321</th>\n      <td>40321</td>\n      <td>40321</td>\n      <td>2020-10-24 21:28:43+00:00</td>\n      <td>2020-10-24 21:28:43+00:00</td>\n      <td>2020-10-24 21:32:54+00:00</td>\n      <td>0.404</td>\n      <td>3303630</td>\n      <td>298095</td>\n      <td>5</td>\n      <td>Scooter</td>\n      <td>{\\n  \"coordinates\": [\\n    [\\n      -76.935917...</td>\n      <td>[\\n  \"2020-10-24T21:28:49Z\",\\n  \"2020-10-24T21...</td>\n      <td>-76.935917</td>\n      <td>38.986389</td>\n      <td>-76.933818</td>\n      <td>38.992196</td>\n    </tr>\n    <tr>\n      <th>40322</th>\n      <td>40322</td>\n      <td>40322</td>\n      <td>2020-10-25 01:22:00+00:00</td>\n      <td>2020-10-25 01:22:00+00:00</td>\n      <td>2020-10-25 01:26:16+00:00</td>\n      <td>0.629</td>\n      <td>3305589</td>\n      <td>604319</td>\n      <td>5</td>\n      <td>Scooter</td>\n      <td>{\\n  \"coordinates\": [\\n    [\\n      -76.940231...</td>\n      <td>[\\n  \"2020-10-25T01:22:07Z\",\\n  \"2020-10-25T01...</td>\n      <td>-76.940231</td>\n      <td>38.996377</td>\n      <td>-76.945600</td>\n      <td>38.992842</td>\n    </tr>\n    <tr>\n      <th>40323</th>\n      <td>40323</td>\n      <td>40323</td>\n      <td>2020-10-25 00:55:24+00:00</td>\n      <td>2020-10-25 00:55:24+00:00</td>\n      <td>2020-10-25 01:07:38+00:00</td>\n      <td>0.567</td>\n      <td>3305336</td>\n      <td>610943</td>\n      <td>13</td>\n      <td>Scooter</td>\n      <td>{\\n  \"coordinates\": [\\n    [\\n      -76.944152...</td>\n      <td>[\\n  \"2020-10-25T00:55:30Z\",\\n  \"2020-10-25T00...</td>\n      <td>-76.944153</td>\n      <td>38.991956</td>\n      <td>-76.940216</td>\n      <td>38.987199</td>\n    </tr>\n    <tr>\n      <th>40324</th>\n      <td>40324</td>\n      <td>40324</td>\n      <td>2020-10-24 06:03:05+00:00</td>\n      <td>2020-10-24 06:03:05+00:00</td>\n      <td>2020-10-24 06:38:05+00:00</td>\n      <td>5.220</td>\n      <td>3299791</td>\n      <td>324757</td>\n      <td>35</td>\n      <td>Scooter</td>\n      <td>{\\n  \"coordinates\": [\\n    [\\n      -76.934166...</td>\n      <td>[\\n  \"2020-10-24T06:03:12Z\",\\n  \"2020-10-24T06...</td>\n      <td>-76.934167</td>\n      <td>38.990645</td>\n      <td>-76.936088</td>\n      <td>38.982452</td>\n    </tr>\n  </tbody>\n</table>\n</div>"
     },
     "metadata": {},
     "execution_count": 4
    }
   ],
   "source": [
    "#dataset.head()\n",
    "dataset.tail()\n",
    "#testing"
   ]
  },
  {
   "cell_type": "code",
   "execution_count": 19,
   "metadata": {},
   "outputs": [
    {
     "output_type": "execute_result",
     "data": {
      "text/plain": [
       "(40325, 16)"
      ]
     },
     "metadata": {},
     "execution_count": 19
    }
   ],
   "source": [
    "dataset.shape"
   ]
  },
  {
   "cell_type": "code",
   "execution_count": 44,
   "metadata": {},
   "outputs": [
    {
     "output_type": "execute_result",
     "data": {
      "text/plain": [
       "Unnamed: 0                    int64\n",
       "Unnamed: 0.1                  int64\n",
       "CREATED         datetime64[ns, UTC]\n",
       "START           datetime64[ns, UTC]\n",
       "END             datetime64[ns, UTC]\n",
       "DISTANCE                    float64\n",
       "RIDE_ID                       int64\n",
       "CUSTOMER_ID                   int64\n",
       "MINUTES                       int64\n",
       "VEHICLE_TYPE                 object\n",
       "PATH                         object\n",
       "TIMESTAMPS                   object\n",
       "START LONG                  float64\n",
       "START LAT                   float64\n",
       "END LONG                    float64\n",
       "END LAT                     float64\n",
       "dtype: object"
      ]
     },
     "metadata": {},
     "execution_count": 44
    }
   ],
   "source": [
    "dataset.dtypes"
   ]
  },
  {
   "cell_type": "code",
   "execution_count": 51,
   "metadata": {},
   "outputs": [],
   "source": [
    "# All the data types do not match lets fix them\n",
    "\n",
    "# Convert as Timestamp data\n",
    "dataset[\"CREATED\"] = pd.to_datetime(dataset[\"CREATED\"])\n",
    "# Convert as Timestamp data\n",
    "dataset[\"START\"] = pd.to_datetime(dataset[\"START\"])\n",
    "# Convert as Timestamp data\n",
    "dataset[\"END\"] = pd.to_datetime(dataset[\"END\"])\n",
    "# Convert timestamp as list\n",
    "dataset[\"TIMESTAMPS\"] = dataset[\"TIMESTAMPS\"].apply(eval)"
   ]
  },
  {
   "source": [
    "The dataset has 40325 rows and 16 columns"
   ],
   "cell_type": "markdown",
   "metadata": {}
  },
  {
   "cell_type": "code",
   "execution_count": 63,
   "metadata": {},
   "outputs": [
    {
     "output_type": "execute_result",
     "data": {
      "text/plain": [
       "2020"
      ]
     },
     "metadata": {},
     "execution_count": 63
    }
   ],
   "source": [
    "dataset[\"CREATED\"][0].year"
   ]
  },
  {
   "cell_type": "code",
   "execution_count": 76,
   "metadata": {
    "tags": []
   },
   "outputs": [],
   "source": [
    "# Get the year of each data entry\n",
    "for index, item in dataset.iterrows():\n",
    "    dataset[\"Year\"] = dataset[\"CREATED\"][index].year"
   ]
  },
  {
   "cell_type": "code",
   "execution_count": 82,
   "metadata": {},
   "outputs": [
    {
     "output_type": "execute_result",
     "data": {
      "text/plain": [
       "   Year  ride_count\n",
       "0  2020       40325"
      ],
      "text/html": "<div>\n<style scoped>\n    .dataframe tbody tr th:only-of-type {\n        vertical-align: middle;\n    }\n\n    .dataframe tbody tr th {\n        vertical-align: top;\n    }\n\n    .dataframe thead th {\n        text-align: right;\n    }\n</style>\n<table border=\"1\" class=\"dataframe\">\n  <thead>\n    <tr style=\"text-align: right;\">\n      <th></th>\n      <th>Year</th>\n      <th>ride_count</th>\n    </tr>\n  </thead>\n  <tbody>\n    <tr>\n      <th>0</th>\n      <td>2020</td>\n      <td>40325</td>\n    </tr>\n  </tbody>\n</table>\n</div>"
     },
     "metadata": {},
     "execution_count": 82
    }
   ],
   "source": [
    "ride_count_year = dataset.groupby(\"Year\").size().reset_index(name='ride_count')\n",
    "ride_count_year"
   ]
  },
  {
   "source": [
    "The distance column is missing values"
   ],
   "cell_type": "markdown",
   "metadata": {}
  },
  {
   "cell_type": "code",
   "execution_count": 12,
   "metadata": {},
   "outputs": [
    {
     "output_type": "execute_result",
     "data": {
      "text/plain": [
       "2273"
      ]
     },
     "metadata": {},
     "execution_count": 12
    }
   ],
   "source": [
    "dataset[\"DISTANCE\"].isna().sum()\n",
    "#dataset[\"DISTANCE\"].dropna()"
   ]
  },
  {
   "source": [
    "Total of 2273 missing datapoint for distance. No sure how to deal with this yet."
   ],
   "cell_type": "markdown",
   "metadata": {}
  },
  {
   "source": [
    "Next we separate all ride by years: October 2020 and October 2019"
   ],
   "cell_type": "markdown",
   "metadata": {}
  },
  {
   "cell_type": "code",
   "execution_count": 57,
   "metadata": {},
   "outputs": [
    {
     "output_type": "stream",
     "name": "stdout",
     "text": [
      "<pandas.core.groupby.generic.DataFrameGroupBy object at 0x7fde7aaed400>\n"
     ]
    }
   ],
   "source": [
    "dataset.groupby(\"CREATED\")"
   ]
  },
  {
   "cell_type": "code",
   "execution_count": 7,
   "metadata": {},
   "outputs": [
    {
     "output_type": "error",
     "ename": "KeyError",
     "evalue": "'START LON'",
     "traceback": [
      "\u001b[0;31m---------------------------------------------------------------------------\u001b[0m",
      "\u001b[0;31mKeyError\u001b[0m                                  Traceback (most recent call last)",
      "\u001b[0;32m~/Library/Python/3.8/lib/python/site-packages/pandas/core/indexes/base.py\u001b[0m in \u001b[0;36mget_loc\u001b[0;34m(self, key, method, tolerance)\u001b[0m\n\u001b[1;32m   3079\u001b[0m             \u001b[0;32mtry\u001b[0m\u001b[0;34m:\u001b[0m\u001b[0;34m\u001b[0m\u001b[0;34m\u001b[0m\u001b[0m\n\u001b[0;32m-> 3080\u001b[0;31m                 \u001b[0;32mreturn\u001b[0m \u001b[0mself\u001b[0m\u001b[0;34m.\u001b[0m\u001b[0m_engine\u001b[0m\u001b[0;34m.\u001b[0m\u001b[0mget_loc\u001b[0m\u001b[0;34m(\u001b[0m\u001b[0mcasted_key\u001b[0m\u001b[0;34m)\u001b[0m\u001b[0;34m\u001b[0m\u001b[0;34m\u001b[0m\u001b[0m\n\u001b[0m\u001b[1;32m   3081\u001b[0m             \u001b[0;32mexcept\u001b[0m \u001b[0mKeyError\u001b[0m \u001b[0;32mas\u001b[0m \u001b[0merr\u001b[0m\u001b[0;34m:\u001b[0m\u001b[0;34m\u001b[0m\u001b[0;34m\u001b[0m\u001b[0m\n",
      "\u001b[0;32mpandas/_libs/index.pyx\u001b[0m in \u001b[0;36mpandas._libs.index.IndexEngine.get_loc\u001b[0;34m()\u001b[0m\n",
      "\u001b[0;32mpandas/_libs/index.pyx\u001b[0m in \u001b[0;36mpandas._libs.index.IndexEngine.get_loc\u001b[0;34m()\u001b[0m\n",
      "\u001b[0;32mpandas/_libs/hashtable_class_helper.pxi\u001b[0m in \u001b[0;36mpandas._libs.hashtable.PyObjectHashTable.get_item\u001b[0;34m()\u001b[0m\n",
      "\u001b[0;32mpandas/_libs/hashtable_class_helper.pxi\u001b[0m in \u001b[0;36mpandas._libs.hashtable.PyObjectHashTable.get_item\u001b[0;34m()\u001b[0m\n",
      "\u001b[0;31mKeyError\u001b[0m: 'START LON'",
      "\nThe above exception was the direct cause of the following exception:\n",
      "\u001b[0;31mKeyError\u001b[0m                                  Traceback (most recent call last)",
      "\u001b[0;32m<ipython-input-7-2cfd64286d18>\u001b[0m in \u001b[0;36m<module>\u001b[0;34m\u001b[0m\n\u001b[0;32m----> 1\u001b[0;31m \u001b[0mdataset\u001b[0m\u001b[0;34m[\u001b[0m\u001b[0;34m\"START POINT\"\u001b[0m\u001b[0;34m]\u001b[0m \u001b[0;34m=\u001b[0m \u001b[0;34m(\u001b[0m\u001b[0mdataset\u001b[0m\u001b[0;34m[\u001b[0m\u001b[0;34m\"START LAT\"\u001b[0m\u001b[0;34m]\u001b[0m \u001b[0;34m,\u001b[0m \u001b[0mdataset\u001b[0m\u001b[0;34m[\u001b[0m\u001b[0;34m\"START LON\"\u001b[0m\u001b[0;34m]\u001b[0m\u001b[0;34m)\u001b[0m\u001b[0;34m\u001b[0m\u001b[0;34m\u001b[0m\u001b[0m\n\u001b[0m",
      "\u001b[0;32m~/Library/Python/3.8/lib/python/site-packages/pandas/core/frame.py\u001b[0m in \u001b[0;36m__getitem__\u001b[0;34m(self, key)\u001b[0m\n\u001b[1;32m   3022\u001b[0m             \u001b[0;32mif\u001b[0m \u001b[0mself\u001b[0m\u001b[0;34m.\u001b[0m\u001b[0mcolumns\u001b[0m\u001b[0;34m.\u001b[0m\u001b[0mnlevels\u001b[0m \u001b[0;34m>\u001b[0m \u001b[0;36m1\u001b[0m\u001b[0;34m:\u001b[0m\u001b[0;34m\u001b[0m\u001b[0;34m\u001b[0m\u001b[0m\n\u001b[1;32m   3023\u001b[0m                 \u001b[0;32mreturn\u001b[0m \u001b[0mself\u001b[0m\u001b[0;34m.\u001b[0m\u001b[0m_getitem_multilevel\u001b[0m\u001b[0;34m(\u001b[0m\u001b[0mkey\u001b[0m\u001b[0;34m)\u001b[0m\u001b[0;34m\u001b[0m\u001b[0;34m\u001b[0m\u001b[0m\n\u001b[0;32m-> 3024\u001b[0;31m             \u001b[0mindexer\u001b[0m \u001b[0;34m=\u001b[0m \u001b[0mself\u001b[0m\u001b[0;34m.\u001b[0m\u001b[0mcolumns\u001b[0m\u001b[0;34m.\u001b[0m\u001b[0mget_loc\u001b[0m\u001b[0;34m(\u001b[0m\u001b[0mkey\u001b[0m\u001b[0;34m)\u001b[0m\u001b[0;34m\u001b[0m\u001b[0;34m\u001b[0m\u001b[0m\n\u001b[0m\u001b[1;32m   3025\u001b[0m             \u001b[0;32mif\u001b[0m \u001b[0mis_integer\u001b[0m\u001b[0;34m(\u001b[0m\u001b[0mindexer\u001b[0m\u001b[0;34m)\u001b[0m\u001b[0;34m:\u001b[0m\u001b[0;34m\u001b[0m\u001b[0;34m\u001b[0m\u001b[0m\n\u001b[1;32m   3026\u001b[0m                 \u001b[0mindexer\u001b[0m \u001b[0;34m=\u001b[0m \u001b[0;34m[\u001b[0m\u001b[0mindexer\u001b[0m\u001b[0;34m]\u001b[0m\u001b[0;34m\u001b[0m\u001b[0;34m\u001b[0m\u001b[0m\n",
      "\u001b[0;32m~/Library/Python/3.8/lib/python/site-packages/pandas/core/indexes/base.py\u001b[0m in \u001b[0;36mget_loc\u001b[0;34m(self, key, method, tolerance)\u001b[0m\n\u001b[1;32m   3080\u001b[0m                 \u001b[0;32mreturn\u001b[0m \u001b[0mself\u001b[0m\u001b[0;34m.\u001b[0m\u001b[0m_engine\u001b[0m\u001b[0;34m.\u001b[0m\u001b[0mget_loc\u001b[0m\u001b[0;34m(\u001b[0m\u001b[0mcasted_key\u001b[0m\u001b[0;34m)\u001b[0m\u001b[0;34m\u001b[0m\u001b[0;34m\u001b[0m\u001b[0m\n\u001b[1;32m   3081\u001b[0m             \u001b[0;32mexcept\u001b[0m \u001b[0mKeyError\u001b[0m \u001b[0;32mas\u001b[0m \u001b[0merr\u001b[0m\u001b[0;34m:\u001b[0m\u001b[0;34m\u001b[0m\u001b[0;34m\u001b[0m\u001b[0m\n\u001b[0;32m-> 3082\u001b[0;31m                 \u001b[0;32mraise\u001b[0m \u001b[0mKeyError\u001b[0m\u001b[0;34m(\u001b[0m\u001b[0mkey\u001b[0m\u001b[0;34m)\u001b[0m \u001b[0;32mfrom\u001b[0m \u001b[0merr\u001b[0m\u001b[0;34m\u001b[0m\u001b[0;34m\u001b[0m\u001b[0m\n\u001b[0m\u001b[1;32m   3083\u001b[0m \u001b[0;34m\u001b[0m\u001b[0m\n\u001b[1;32m   3084\u001b[0m         \u001b[0;32mif\u001b[0m \u001b[0mtolerance\u001b[0m \u001b[0;32mis\u001b[0m \u001b[0;32mnot\u001b[0m \u001b[0;32mNone\u001b[0m\u001b[0;34m:\u001b[0m\u001b[0;34m\u001b[0m\u001b[0;34m\u001b[0m\u001b[0m\n",
      "\u001b[0;31mKeyError\u001b[0m: 'START LON'"
     ]
    }
   ],
   "source": [
    "dataset[\"START POINT\"] = (dataset[\"START LAT\"] , dataset[\"START LON\"])"
   ]
  },
  {
   "cell_type": "code",
   "execution_count": null,
   "metadata": {},
   "outputs": [],
   "source": []
  }
 ]
}