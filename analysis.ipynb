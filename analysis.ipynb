{
 "metadata": {
  "language_info": {
   "codemirror_mode": {
    "name": "ipython",
    "version": 3
   },
   "file_extension": ".py",
   "mimetype": "text/x-python",
   "name": "python",
   "nbconvert_exporter": "python",
   "pygments_lexer": "ipython3",
   "version": "3.8.1"
  },
  "orig_nbformat": 2,
  "kernelspec": {
   "name": "python3",
   "display_name": "Python 3.8.1 64-bit ('3.8')"
  },
  "metadata": {
   "interpreter": {
    "hash": "2db524e06e9f5f4ffedc911c917cb75e12dbc923643829bf417064a77eb14d37"
   }
  },
  "interpreter": {
   "hash": "082e9a3bcad0a290d0001e938aa60b99250c6c2ef33a923c00b70f9826caf4b7"
  }
 },
 "nbformat": 4,
 "nbformat_minor": 2,
 "cells": [
  {
   "cell_type": "code",
   "execution_count": 2,
   "metadata": {},
   "outputs": [],
   "source": [
    "import pandas as pd\n",
    "import numpy as np\n",
    "import json"
   ]
  },
  {
   "source": [
    "Importing the data as a dataframe."
   ],
   "cell_type": "markdown",
   "metadata": {}
  },
  {
   "cell_type": "code",
   "execution_count": 3,
   "metadata": {},
   "outputs": [],
   "source": [
    "dataset = pd.read_csv(\"data/Data_Lv3_UMDOTS_Escooters.csv\")"
   ]
  },
  {
   "source": [
    "Lets take a look at a few data point"
   ],
   "cell_type": "markdown",
   "metadata": {}
  },
  {
   "cell_type": "code",
   "execution_count": 4,
   "metadata": {},
   "outputs": [
    {
     "output_type": "execute_result",
     "data": {
      "text/plain": [
       "       Unnamed: 0  Unnamed: 0.1                    CREATED  \\\n",
       "40320       40320         40320  2020-10-24 22:21:40+00:00   \n",
       "40321       40321         40321  2020-10-24 21:28:43+00:00   \n",
       "40322       40322         40322  2020-10-25 01:22:00+00:00   \n",
       "40323       40323         40323  2020-10-25 00:55:24+00:00   \n",
       "40324       40324         40324  2020-10-24 06:03:05+00:00   \n",
       "\n",
       "                           START                        END  DISTANCE  \\\n",
       "40320  2020-10-24 22:21:40+00:00  2020-10-24 22:26:38+00:00     0.794   \n",
       "40321  2020-10-24 21:28:43+00:00  2020-10-24 21:32:54+00:00     0.404   \n",
       "40322  2020-10-25 01:22:00+00:00  2020-10-25 01:26:16+00:00     0.629   \n",
       "40323  2020-10-25 00:55:24+00:00  2020-10-25 01:07:38+00:00     0.567   \n",
       "40324  2020-10-24 06:03:05+00:00  2020-10-24 06:38:05+00:00     5.220   \n",
       "\n",
       "       RIDE_ID  CUSTOMER_ID  MINUTES VEHICLE_TYPE  \\\n",
       "40320  3304114       322401        5      Scooter   \n",
       "40321  3303630       298095        5      Scooter   \n",
       "40322  3305589       604319        5      Scooter   \n",
       "40323  3305336       610943       13      Scooter   \n",
       "40324  3299791       324757       35      Scooter   \n",
       "\n",
       "                                                    PATH  \\\n",
       "40320  {\\n  \"coordinates\": [\\n    [\\n      -76.943936...   \n",
       "40321  {\\n  \"coordinates\": [\\n    [\\n      -76.935917...   \n",
       "40322  {\\n  \"coordinates\": [\\n    [\\n      -76.940231...   \n",
       "40323  {\\n  \"coordinates\": [\\n    [\\n      -76.944152...   \n",
       "40324  {\\n  \"coordinates\": [\\n    [\\n      -76.934166...   \n",
       "\n",
       "                                              TIMESTAMPS  START LONG  \\\n",
       "40320  [\\n  \"2020-10-24T22:21:46Z\",\\n  \"2020-10-24T22...  -76.943937   \n",
       "40321  [\\n  \"2020-10-24T21:28:49Z\",\\n  \"2020-10-24T21...  -76.935917   \n",
       "40322  [\\n  \"2020-10-25T01:22:07Z\",\\n  \"2020-10-25T01...  -76.940231   \n",
       "40323  [\\n  \"2020-10-25T00:55:30Z\",\\n  \"2020-10-25T00...  -76.944153   \n",
       "40324  [\\n  \"2020-10-24T06:03:12Z\",\\n  \"2020-10-24T06...  -76.934167   \n",
       "\n",
       "       START LAT   END LONG    END LAT  \n",
       "40320  38.988110 -76.934104  38.992061  \n",
       "40321  38.986389 -76.933818  38.992196  \n",
       "40322  38.996377 -76.945600  38.992842  \n",
       "40323  38.991956 -76.940216  38.987199  \n",
       "40324  38.990645 -76.936088  38.982452  "
      ],
      "text/html": "<div>\n<style scoped>\n    .dataframe tbody tr th:only-of-type {\n        vertical-align: middle;\n    }\n\n    .dataframe tbody tr th {\n        vertical-align: top;\n    }\n\n    .dataframe thead th {\n        text-align: right;\n    }\n</style>\n<table border=\"1\" class=\"dataframe\">\n  <thead>\n    <tr style=\"text-align: right;\">\n      <th></th>\n      <th>Unnamed: 0</th>\n      <th>Unnamed: 0.1</th>\n      <th>CREATED</th>\n      <th>START</th>\n      <th>END</th>\n      <th>DISTANCE</th>\n      <th>RIDE_ID</th>\n      <th>CUSTOMER_ID</th>\n      <th>MINUTES</th>\n      <th>VEHICLE_TYPE</th>\n      <th>PATH</th>\n      <th>TIMESTAMPS</th>\n      <th>START LONG</th>\n      <th>START LAT</th>\n      <th>END LONG</th>\n      <th>END LAT</th>\n    </tr>\n  </thead>\n  <tbody>\n    <tr>\n      <th>40320</th>\n      <td>40320</td>\n      <td>40320</td>\n      <td>2020-10-24 22:21:40+00:00</td>\n      <td>2020-10-24 22:21:40+00:00</td>\n      <td>2020-10-24 22:26:38+00:00</td>\n      <td>0.794</td>\n      <td>3304114</td>\n      <td>322401</td>\n      <td>5</td>\n      <td>Scooter</td>\n      <td>{\\n  \"coordinates\": [\\n    [\\n      -76.943936...</td>\n      <td>[\\n  \"2020-10-24T22:21:46Z\",\\n  \"2020-10-24T22...</td>\n      <td>-76.943937</td>\n      <td>38.988110</td>\n      <td>-76.934104</td>\n      <td>38.992061</td>\n    </tr>\n    <tr>\n      <th>40321</th>\n      <td>40321</td>\n      <td>40321</td>\n      <td>2020-10-24 21:28:43+00:00</td>\n      <td>2020-10-24 21:28:43+00:00</td>\n      <td>2020-10-24 21:32:54+00:00</td>\n      <td>0.404</td>\n      <td>3303630</td>\n      <td>298095</td>\n      <td>5</td>\n      <td>Scooter</td>\n      <td>{\\n  \"coordinates\": [\\n    [\\n      -76.935917...</td>\n      <td>[\\n  \"2020-10-24T21:28:49Z\",\\n  \"2020-10-24T21...</td>\n      <td>-76.935917</td>\n      <td>38.986389</td>\n      <td>-76.933818</td>\n      <td>38.992196</td>\n    </tr>\n    <tr>\n      <th>40322</th>\n      <td>40322</td>\n      <td>40322</td>\n      <td>2020-10-25 01:22:00+00:00</td>\n      <td>2020-10-25 01:22:00+00:00</td>\n      <td>2020-10-25 01:26:16+00:00</td>\n      <td>0.629</td>\n      <td>3305589</td>\n      <td>604319</td>\n      <td>5</td>\n      <td>Scooter</td>\n      <td>{\\n  \"coordinates\": [\\n    [\\n      -76.940231...</td>\n      <td>[\\n  \"2020-10-25T01:22:07Z\",\\n  \"2020-10-25T01...</td>\n      <td>-76.940231</td>\n      <td>38.996377</td>\n      <td>-76.945600</td>\n      <td>38.992842</td>\n    </tr>\n    <tr>\n      <th>40323</th>\n      <td>40323</td>\n      <td>40323</td>\n      <td>2020-10-25 00:55:24+00:00</td>\n      <td>2020-10-25 00:55:24+00:00</td>\n      <td>2020-10-25 01:07:38+00:00</td>\n      <td>0.567</td>\n      <td>3305336</td>\n      <td>610943</td>\n      <td>13</td>\n      <td>Scooter</td>\n      <td>{\\n  \"coordinates\": [\\n    [\\n      -76.944152...</td>\n      <td>[\\n  \"2020-10-25T00:55:30Z\",\\n  \"2020-10-25T00...</td>\n      <td>-76.944153</td>\n      <td>38.991956</td>\n      <td>-76.940216</td>\n      <td>38.987199</td>\n    </tr>\n    <tr>\n      <th>40324</th>\n      <td>40324</td>\n      <td>40324</td>\n      <td>2020-10-24 06:03:05+00:00</td>\n      <td>2020-10-24 06:03:05+00:00</td>\n      <td>2020-10-24 06:38:05+00:00</td>\n      <td>5.220</td>\n      <td>3299791</td>\n      <td>324757</td>\n      <td>35</td>\n      <td>Scooter</td>\n      <td>{\\n  \"coordinates\": [\\n    [\\n      -76.934166...</td>\n      <td>[\\n  \"2020-10-24T06:03:12Z\",\\n  \"2020-10-24T06...</td>\n      <td>-76.934167</td>\n      <td>38.990645</td>\n      <td>-76.936088</td>\n      <td>38.982452</td>\n    </tr>\n  </tbody>\n</table>\n</div>"
     },
     "metadata": {},
     "execution_count": 4
    }
   ],
   "source": [
    "#dataset.head()\n",
    "dataset.tail()"
   ]
  },
  {
   "cell_type": "code",
   "execution_count": 5,
   "metadata": {},
   "outputs": [
    {
     "output_type": "execute_result",
     "data": {
      "text/plain": [
       "(40325, 16)"
      ]
     },
     "metadata": {},
     "execution_count": 5
    }
   ],
   "source": [
    "dataset.shape"
   ]
  },
  {
   "cell_type": "code",
   "execution_count": 6,
   "metadata": {},
   "outputs": [
    {
     "output_type": "execute_result",
     "data": {
      "text/plain": [
       "Unnamed: 0        int64\n",
       "Unnamed: 0.1      int64\n",
       "CREATED          object\n",
       "START            object\n",
       "END              object\n",
       "DISTANCE        float64\n",
       "RIDE_ID           int64\n",
       "CUSTOMER_ID       int64\n",
       "MINUTES           int64\n",
       "VEHICLE_TYPE     object\n",
       "PATH             object\n",
       "TIMESTAMPS       object\n",
       "START LONG      float64\n",
       "START LAT       float64\n",
       "END LONG        float64\n",
       "END LAT         float64\n",
       "dtype: object"
      ]
     },
     "metadata": {},
     "execution_count": 6
    }
   ],
   "source": [
    "dataset.dtypes"
   ]
  },
  {
   "cell_type": "code",
   "execution_count": 7,
   "metadata": {},
   "outputs": [],
   "source": [
    "# All the data types do not match lets fix them\n",
    "\n",
    "# Convert as Timestamp data\n",
    "dataset[\"CREATED\"] = pd.to_datetime(dataset[\"CREATED\"])\n",
    "# Convert as Timestamp data\n",
    "dataset[\"START\"] = pd.to_datetime(dataset[\"START\"])\n",
    "# Convert as Timestamp data\n",
    "dataset[\"END\"] = pd.to_datetime(dataset[\"END\"])\n",
    "# Convert timestamp as list\n",
    "dataset[\"TIMESTAMPS\"] = dataset[\"TIMESTAMPS\"].apply(eval)"
   ]
  },
  {
   "source": [
    "The dataset has 40325 rows and 16 columns"
   ],
   "cell_type": "markdown",
   "metadata": {}
  },
  {
   "cell_type": "code",
   "execution_count": 8,
   "metadata": {
    "tags": []
   },
   "outputs": [
    {
     "output_type": "stream",
     "name": "stderr",
     "text": [
      "<ipython-input-8-71b62617ba7d>:5: SettingWithCopyWarning: \nA value is trying to be set on a copy of a slice from a DataFrame\n\nSee the caveats in the documentation: https://pandas.pydata.org/pandas-docs/stable/user_guide/indexing.html#returning-a-view-versus-a-copy\n  dataset[\"Year\"][index] = dataset[\"CREATED\"][index].year\n"
     ]
    }
   ],
   "source": [
    "# Get the year of each data entry\n",
    "# Initialize new columns\n",
    "dataset[\"Year\"] = dataset[\"CREATED\"][0].year\n",
    "for index, item in dataset.iterrows():\n",
    "    dataset[\"Year\"][index] = dataset[\"CREATED\"][index].year"
   ]
  },
  {
   "cell_type": "code",
   "execution_count": 9,
   "metadata": {},
   "outputs": [
    {
     "output_type": "execute_result",
     "data": {
      "text/plain": [
       "   Year  ride_count\n",
       "0  2019       18382\n",
       "1  2020       21943"
      ],
      "text/html": "<div>\n<style scoped>\n    .dataframe tbody tr th:only-of-type {\n        vertical-align: middle;\n    }\n\n    .dataframe tbody tr th {\n        vertical-align: top;\n    }\n\n    .dataframe thead th {\n        text-align: right;\n    }\n</style>\n<table border=\"1\" class=\"dataframe\">\n  <thead>\n    <tr style=\"text-align: right;\">\n      <th></th>\n      <th>Year</th>\n      <th>ride_count</th>\n    </tr>\n  </thead>\n  <tbody>\n    <tr>\n      <th>0</th>\n      <td>2019</td>\n      <td>18382</td>\n    </tr>\n    <tr>\n      <th>1</th>\n      <td>2020</td>\n      <td>21943</td>\n    </tr>\n  </tbody>\n</table>\n</div>"
     },
     "metadata": {},
     "execution_count": 9
    }
   ],
   "source": [
    "ride_count_year = dataset.groupby(\"Year\").size().reset_index(name='ride_count')\n",
    "ride_count_year"
   ]
  },
  {
   "source": [
    "The distance column is missing values"
   ],
   "cell_type": "markdown",
   "metadata": {}
  },
  {
   "cell_type": "code",
   "execution_count": 10,
   "metadata": {},
   "outputs": [
    {
     "output_type": "execute_result",
     "data": {
      "text/plain": [
       "2273"
      ]
     },
     "metadata": {},
     "execution_count": 10
    }
   ],
   "source": [
    "dataset[\"DISTANCE\"].isna().sum()\n",
    "#dataset[\"DISTANCE\"].dropna()"
   ]
  },
  {
   "source": [
    "Total of 2273 missing datapoint for distance. No sure how to deal with this yet."
   ],
   "cell_type": "markdown",
   "metadata": {}
  },
  {
   "source": [
    "Next we separate all ride by years: October 2020 and October 2019"
   ],
   "cell_type": "markdown",
   "metadata": {}
  },
  {
   "cell_type": "code",
   "execution_count": 12,
   "metadata": {},
   "outputs": [
    {
     "output_type": "execute_result",
     "data": {
      "text/plain": [
       "<pandas.core.groupby.generic.DataFrameGroupBy object at 0x7fca53febd60>"
      ]
     },
     "metadata": {},
     "execution_count": 12
    }
   ],
   "source": [
    "dataset.groupby(\"CREATED\")"
   ]
  },
  {
   "cell_type": "code",
   "execution_count": 13,
   "metadata": {},
   "outputs": [
    {
     "output_type": "execute_result",
     "data": {
      "text/plain": [
       "   Unnamed: 0  Unnamed: 0.1                   CREATED  \\\n",
       "0           0             0 2020-10-03 03:32:15+00:00   \n",
       "1           1             1 2020-10-03 03:07:39+00:00   \n",
       "2           2             2 2020-10-03 03:17:05+00:00   \n",
       "3           3             3 2020-10-03 02:24:58+00:00   \n",
       "4           4             4 2020-10-03 03:19:34+00:00   \n",
       "\n",
       "                      START                       END  DISTANCE  RIDE_ID  \\\n",
       "0 2020-10-03 03:32:15+00:00 2020-10-03 03:32:46+00:00     0.008  3135665   \n",
       "1 2020-10-03 03:07:39+00:00 2020-10-03 03:37:06+00:00     1.062  3135395   \n",
       "2 2020-10-03 03:17:05+00:00 2020-10-03 03:24:24+00:00     0.847  3135503   \n",
       "3 2020-10-03 02:24:58+00:00 2020-10-03 03:11:56+00:00     3.447  3134955   \n",
       "4 2020-10-03 03:19:34+00:00 2020-10-03 03:22:45+00:00     0.386  3135529   \n",
       "\n",
       "   CUSTOMER_ID  MINUTES VEHICLE_TYPE  \\\n",
       "0       193964        1      Scooter   \n",
       "1       542947       30      Scooter   \n",
       "2       517321        8      Scooter   \n",
       "3       578051       47      Scooter   \n",
       "4       552305        4      Scooter   \n",
       "\n",
       "                                                PATH  \\\n",
       "0  {\\n  \"coordinates\": [\\n    [\\n      -76.934163...   \n",
       "1  {\\n  \"coordinates\": [\\n    [\\n      -76.938180...   \n",
       "2  {\\n  \"coordinates\": [\\n    [\\n      -76.937599...   \n",
       "3  {\\n  \"coordinates\": [\\n    [\\n      -76.943553...   \n",
       "4  {\\n  \"coordinates\": [\\n    [\\n      -76.938115...   \n",
       "\n",
       "                                          TIMESTAMPS  START LONG  START LAT  \\\n",
       "0       [2020-10-03T03:32:14Z, 2020-10-03T03:32:30Z]  -76.934163  38.990656   \n",
       "1  [2020-10-03T03:07:46Z, 2020-10-03T03:12:16Z, 2...  -76.938181  38.982087   \n",
       "2  [2020-10-03T03:17:12Z, 2020-10-03T03:17:32Z, 2...  -76.937600  38.979613   \n",
       "3  [2020-10-03T02:25:04Z, 2020-10-03T02:26:24Z, 2...  -76.943553  38.982470   \n",
       "4  [2020-10-03T03:19:40Z, 2020-10-03T03:19:45Z, 2...  -76.938116  38.982084   \n",
       "\n",
       "    END LONG    END LAT  Year                             START POINT  \\\n",
       "0 -76.934285  38.990739  2020                  38.9906555, -76.934163   \n",
       "1 -76.949165  38.992849  2020  38.982087166666666, -76.93818083333333   \n",
       "2 -76.933335  38.992676  2020   38.97961266666667, -76.93759983333334   \n",
       "3 -76.943546  38.982476  2020  38.982470166666666, -76.94355316666666   \n",
       "4 -76.943257  38.986101  2020          38.9820835, -76.93811566666666   \n",
       "\n",
       "                                END POINT  \n",
       "0  38.990738666666665, -76.93428483333334  \n",
       "1   38.99284866666667, -76.94916483333333  \n",
       "2           38.992676, -76.93333466666667  \n",
       "3  38.982475666666666, -76.94354633333333  \n",
       "4                   38.986101, -76.943257  "
      ],
      "text/html": "<div>\n<style scoped>\n    .dataframe tbody tr th:only-of-type {\n        vertical-align: middle;\n    }\n\n    .dataframe tbody tr th {\n        vertical-align: top;\n    }\n\n    .dataframe thead th {\n        text-align: right;\n    }\n</style>\n<table border=\"1\" class=\"dataframe\">\n  <thead>\n    <tr style=\"text-align: right;\">\n      <th></th>\n      <th>Unnamed: 0</th>\n      <th>Unnamed: 0.1</th>\n      <th>CREATED</th>\n      <th>START</th>\n      <th>END</th>\n      <th>DISTANCE</th>\n      <th>RIDE_ID</th>\n      <th>CUSTOMER_ID</th>\n      <th>MINUTES</th>\n      <th>VEHICLE_TYPE</th>\n      <th>PATH</th>\n      <th>TIMESTAMPS</th>\n      <th>START LONG</th>\n      <th>START LAT</th>\n      <th>END LONG</th>\n      <th>END LAT</th>\n      <th>Year</th>\n      <th>START POINT</th>\n      <th>END POINT</th>\n    </tr>\n  </thead>\n  <tbody>\n    <tr>\n      <th>0</th>\n      <td>0</td>\n      <td>0</td>\n      <td>2020-10-03 03:32:15+00:00</td>\n      <td>2020-10-03 03:32:15+00:00</td>\n      <td>2020-10-03 03:32:46+00:00</td>\n      <td>0.008</td>\n      <td>3135665</td>\n      <td>193964</td>\n      <td>1</td>\n      <td>Scooter</td>\n      <td>{\\n  \"coordinates\": [\\n    [\\n      -76.934163...</td>\n      <td>[2020-10-03T03:32:14Z, 2020-10-03T03:32:30Z]</td>\n      <td>-76.934163</td>\n      <td>38.990656</td>\n      <td>-76.934285</td>\n      <td>38.990739</td>\n      <td>2020</td>\n      <td>38.9906555, -76.934163</td>\n      <td>38.990738666666665, -76.93428483333334</td>\n    </tr>\n    <tr>\n      <th>1</th>\n      <td>1</td>\n      <td>1</td>\n      <td>2020-10-03 03:07:39+00:00</td>\n      <td>2020-10-03 03:07:39+00:00</td>\n      <td>2020-10-03 03:37:06+00:00</td>\n      <td>1.062</td>\n      <td>3135395</td>\n      <td>542947</td>\n      <td>30</td>\n      <td>Scooter</td>\n      <td>{\\n  \"coordinates\": [\\n    [\\n      -76.938180...</td>\n      <td>[2020-10-03T03:07:46Z, 2020-10-03T03:12:16Z, 2...</td>\n      <td>-76.938181</td>\n      <td>38.982087</td>\n      <td>-76.949165</td>\n      <td>38.992849</td>\n      <td>2020</td>\n      <td>38.982087166666666, -76.93818083333333</td>\n      <td>38.99284866666667, -76.94916483333333</td>\n    </tr>\n    <tr>\n      <th>2</th>\n      <td>2</td>\n      <td>2</td>\n      <td>2020-10-03 03:17:05+00:00</td>\n      <td>2020-10-03 03:17:05+00:00</td>\n      <td>2020-10-03 03:24:24+00:00</td>\n      <td>0.847</td>\n      <td>3135503</td>\n      <td>517321</td>\n      <td>8</td>\n      <td>Scooter</td>\n      <td>{\\n  \"coordinates\": [\\n    [\\n      -76.937599...</td>\n      <td>[2020-10-03T03:17:12Z, 2020-10-03T03:17:32Z, 2...</td>\n      <td>-76.937600</td>\n      <td>38.979613</td>\n      <td>-76.933335</td>\n      <td>38.992676</td>\n      <td>2020</td>\n      <td>38.97961266666667, -76.93759983333334</td>\n      <td>38.992676, -76.93333466666667</td>\n    </tr>\n    <tr>\n      <th>3</th>\n      <td>3</td>\n      <td>3</td>\n      <td>2020-10-03 02:24:58+00:00</td>\n      <td>2020-10-03 02:24:58+00:00</td>\n      <td>2020-10-03 03:11:56+00:00</td>\n      <td>3.447</td>\n      <td>3134955</td>\n      <td>578051</td>\n      <td>47</td>\n      <td>Scooter</td>\n      <td>{\\n  \"coordinates\": [\\n    [\\n      -76.943553...</td>\n      <td>[2020-10-03T02:25:04Z, 2020-10-03T02:26:24Z, 2...</td>\n      <td>-76.943553</td>\n      <td>38.982470</td>\n      <td>-76.943546</td>\n      <td>38.982476</td>\n      <td>2020</td>\n      <td>38.982470166666666, -76.94355316666666</td>\n      <td>38.982475666666666, -76.94354633333333</td>\n    </tr>\n    <tr>\n      <th>4</th>\n      <td>4</td>\n      <td>4</td>\n      <td>2020-10-03 03:19:34+00:00</td>\n      <td>2020-10-03 03:19:34+00:00</td>\n      <td>2020-10-03 03:22:45+00:00</td>\n      <td>0.386</td>\n      <td>3135529</td>\n      <td>552305</td>\n      <td>4</td>\n      <td>Scooter</td>\n      <td>{\\n  \"coordinates\": [\\n    [\\n      -76.938115...</td>\n      <td>[2020-10-03T03:19:40Z, 2020-10-03T03:19:45Z, 2...</td>\n      <td>-76.938116</td>\n      <td>38.982084</td>\n      <td>-76.943257</td>\n      <td>38.986101</td>\n      <td>2020</td>\n      <td>38.9820835, -76.93811566666666</td>\n      <td>38.986101, -76.943257</td>\n    </tr>\n  </tbody>\n</table>\n</div>"
     },
     "metadata": {},
     "execution_count": 13
    }
   ],
   "source": [
    "\n",
    "dataset[\"START POINT\"] = (dataset[\"START LAT\"].astype(str)) + \", \" + dataset[\"START LONG\"].astype(str)\n",
    "\n",
    "dataset[\"END POINT\"] = (dataset[\"END LAT\"].astype(str)) + \", \" + dataset[\"END LONG\"].astype(str)\n",
    "dataset.head()"
   ]
  },
  {
   "cell_type": "code",
   "execution_count": 14,
   "metadata": {},
   "outputs": [
    {
     "output_type": "execute_result",
     "data": {
      "text/plain": [
       "2020    21943\n",
       "2019    18382\n",
       "Name: Year, dtype: int64"
      ]
     },
     "metadata": {},
     "execution_count": 14
    }
   ],
   "source": []
  },
  {
   "cell_type": "code",
   "execution_count": null,
   "metadata": {},
   "outputs": [],
   "source": []
  }
 ]
}