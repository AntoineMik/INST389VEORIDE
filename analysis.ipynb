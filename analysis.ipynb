{
 "metadata": {
  "language_info": {
   "codemirror_mode": {
    "name": "ipython",
    "version": 3
   },
   "file_extension": ".py",
   "mimetype": "text/x-python",
   "name": "python",
   "nbconvert_exporter": "python",
   "pygments_lexer": "ipython3",
   "version": "3.8.8"
  },
  "orig_nbformat": 2,
  "kernelspec": {
   "name": "python3",
   "display_name": "Python 3.8.8 64-bit ('anaconda3': virtualenv)"
  },
  "metadata": {
   "interpreter": {
    "hash": "2db524e06e9f5f4ffedc911c917cb75e12dbc923643829bf417064a77eb14d37"
   }
  },
  "interpreter": {
   "hash": "6755aa49167bcdd6def9e8e324169bf6209b1ae9f05c70b157aa909078be9c06"
  }
 },
 "nbformat": 4,
 "nbformat_minor": 2,
 "cells": [
  {
   "cell_type": "code",
   "execution_count": 1,
   "metadata": {},
   "outputs": [],
   "source": [
    "import pandas as pd\n",
    "import numpy as np\n",
    "import json"
   ]
  },
  {
   "source": [
    "Importing the data as a dataframe."
   ],
   "cell_type": "markdown",
   "metadata": {}
  },
  {
   "cell_type": "code",
   "execution_count": 34,
   "metadata": {},
   "outputs": [],
   "source": [
    "dataset = pd.read_csv(\"data/Data_Lv3_UMDOTS_Escooters.csv\")"
   ]
  },
  {
   "source": [
    "Lets take a look at a few data point"
   ],
   "cell_type": "markdown",
   "metadata": {}
  },
  {
   "cell_type": "code",
   "execution_count": 84,
   "metadata": {},
   "outputs": [
    {
     "output_type": "execute_result",
     "data": {
      "text/plain": [
       "       Unnamed: 0  Unnamed: 0.1                   CREATED  \\\n",
       "40320       40320         40320 2020-10-24 22:21:40+00:00   \n",
       "40321       40321         40321 2020-10-24 21:28:43+00:00   \n",
       "40322       40322         40322 2020-10-25 01:22:00+00:00   \n",
       "40323       40323         40323 2020-10-25 00:55:24+00:00   \n",
       "40324       40324         40324 2020-10-24 06:03:05+00:00   \n",
       "\n",
       "                          START                       END  DISTANCE  RIDE_ID  \\\n",
       "40320 2020-10-24 22:21:40+00:00 2020-10-24 22:26:38+00:00     0.794  3304114   \n",
       "40321 2020-10-24 21:28:43+00:00 2020-10-24 21:32:54+00:00     0.404  3303630   \n",
       "40322 2020-10-25 01:22:00+00:00 2020-10-25 01:26:16+00:00     0.629  3305589   \n",
       "40323 2020-10-25 00:55:24+00:00 2020-10-25 01:07:38+00:00     0.567  3305336   \n",
       "40324 2020-10-24 06:03:05+00:00 2020-10-24 06:38:05+00:00     5.220  3299791   \n",
       "\n",
       "       CUSTOMER_ID  MINUTES VEHICLE_TYPE  \\\n",
       "40320       322401        5      Scooter   \n",
       "40321       298095        5      Scooter   \n",
       "40322       604319        5      Scooter   \n",
       "40323       610943       13      Scooter   \n",
       "40324       324757       35      Scooter   \n",
       "\n",
       "                                                    PATH  \\\n",
       "40320  {\\n  \"coordinates\": [\\n    [\\n      -76.943936...   \n",
       "40321  {\\n  \"coordinates\": [\\n    [\\n      -76.935917...   \n",
       "40322  {\\n  \"coordinates\": [\\n    [\\n      -76.940231...   \n",
       "40323  {\\n  \"coordinates\": [\\n    [\\n      -76.944152...   \n",
       "40324  {\\n  \"coordinates\": [\\n    [\\n      -76.934166...   \n",
       "\n",
       "                                              TIMESTAMPS  START LONG  \\\n",
       "40320  [2020-10-24T22:21:46Z, 2020-10-24T22:22:02Z, 2...  -76.943937   \n",
       "40321  [2020-10-24T21:28:49Z, 2020-10-24T21:29:05Z, 2...  -76.935917   \n",
       "40322  [2020-10-25T01:22:07Z, 2020-10-25T01:22:18Z, 2...  -76.940231   \n",
       "40323  [2020-10-25T00:55:30Z, 2020-10-25T00:55:46Z, 2...  -76.944153   \n",
       "40324  [2020-10-24T06:03:12Z, 2020-10-24T06:05:12Z, 2...  -76.934167   \n",
       "\n",
       "       START LAT   END LONG    END LAT  Year  \n",
       "40320  38.988110 -76.934104  38.992061  2020  \n",
       "40321  38.986389 -76.933818  38.992196  2020  \n",
       "40322  38.996377 -76.945600  38.992842  2020  \n",
       "40323  38.991956 -76.940216  38.987199  2020  \n",
       "40324  38.990645 -76.936088  38.982452  2020  "
      ],
      "text/html": "<div>\n<style scoped>\n    .dataframe tbody tr th:only-of-type {\n        vertical-align: middle;\n    }\n\n    .dataframe tbody tr th {\n        vertical-align: top;\n    }\n\n    .dataframe thead th {\n        text-align: right;\n    }\n</style>\n<table border=\"1\" class=\"dataframe\">\n  <thead>\n    <tr style=\"text-align: right;\">\n      <th></th>\n      <th>Unnamed: 0</th>\n      <th>Unnamed: 0.1</th>\n      <th>CREATED</th>\n      <th>START</th>\n      <th>END</th>\n      <th>DISTANCE</th>\n      <th>RIDE_ID</th>\n      <th>CUSTOMER_ID</th>\n      <th>MINUTES</th>\n      <th>VEHICLE_TYPE</th>\n      <th>PATH</th>\n      <th>TIMESTAMPS</th>\n      <th>START LONG</th>\n      <th>START LAT</th>\n      <th>END LONG</th>\n      <th>END LAT</th>\n      <th>Year</th>\n    </tr>\n  </thead>\n  <tbody>\n    <tr>\n      <th>40320</th>\n      <td>40320</td>\n      <td>40320</td>\n      <td>2020-10-24 22:21:40+00:00</td>\n      <td>2020-10-24 22:21:40+00:00</td>\n      <td>2020-10-24 22:26:38+00:00</td>\n      <td>0.794</td>\n      <td>3304114</td>\n      <td>322401</td>\n      <td>5</td>\n      <td>Scooter</td>\n      <td>{\\n  \"coordinates\": [\\n    [\\n      -76.943936...</td>\n      <td>[2020-10-24T22:21:46Z, 2020-10-24T22:22:02Z, 2...</td>\n      <td>-76.943937</td>\n      <td>38.988110</td>\n      <td>-76.934104</td>\n      <td>38.992061</td>\n      <td>2020</td>\n    </tr>\n    <tr>\n      <th>40321</th>\n      <td>40321</td>\n      <td>40321</td>\n      <td>2020-10-24 21:28:43+00:00</td>\n      <td>2020-10-24 21:28:43+00:00</td>\n      <td>2020-10-24 21:32:54+00:00</td>\n      <td>0.404</td>\n      <td>3303630</td>\n      <td>298095</td>\n      <td>5</td>\n      <td>Scooter</td>\n      <td>{\\n  \"coordinates\": [\\n    [\\n      -76.935917...</td>\n      <td>[2020-10-24T21:28:49Z, 2020-10-24T21:29:05Z, 2...</td>\n      <td>-76.935917</td>\n      <td>38.986389</td>\n      <td>-76.933818</td>\n      <td>38.992196</td>\n      <td>2020</td>\n    </tr>\n    <tr>\n      <th>40322</th>\n      <td>40322</td>\n      <td>40322</td>\n      <td>2020-10-25 01:22:00+00:00</td>\n      <td>2020-10-25 01:22:00+00:00</td>\n      <td>2020-10-25 01:26:16+00:00</td>\n      <td>0.629</td>\n      <td>3305589</td>\n      <td>604319</td>\n      <td>5</td>\n      <td>Scooter</td>\n      <td>{\\n  \"coordinates\": [\\n    [\\n      -76.940231...</td>\n      <td>[2020-10-25T01:22:07Z, 2020-10-25T01:22:18Z, 2...</td>\n      <td>-76.940231</td>\n      <td>38.996377</td>\n      <td>-76.945600</td>\n      <td>38.992842</td>\n      <td>2020</td>\n    </tr>\n    <tr>\n      <th>40323</th>\n      <td>40323</td>\n      <td>40323</td>\n      <td>2020-10-25 00:55:24+00:00</td>\n      <td>2020-10-25 00:55:24+00:00</td>\n      <td>2020-10-25 01:07:38+00:00</td>\n      <td>0.567</td>\n      <td>3305336</td>\n      <td>610943</td>\n      <td>13</td>\n      <td>Scooter</td>\n      <td>{\\n  \"coordinates\": [\\n    [\\n      -76.944152...</td>\n      <td>[2020-10-25T00:55:30Z, 2020-10-25T00:55:46Z, 2...</td>\n      <td>-76.944153</td>\n      <td>38.991956</td>\n      <td>-76.940216</td>\n      <td>38.987199</td>\n      <td>2020</td>\n    </tr>\n    <tr>\n      <th>40324</th>\n      <td>40324</td>\n      <td>40324</td>\n      <td>2020-10-24 06:03:05+00:00</td>\n      <td>2020-10-24 06:03:05+00:00</td>\n      <td>2020-10-24 06:38:05+00:00</td>\n      <td>5.220</td>\n      <td>3299791</td>\n      <td>324757</td>\n      <td>35</td>\n      <td>Scooter</td>\n      <td>{\\n  \"coordinates\": [\\n    [\\n      -76.934166...</td>\n      <td>[2020-10-24T06:03:12Z, 2020-10-24T06:05:12Z, 2...</td>\n      <td>-76.934167</td>\n      <td>38.990645</td>\n      <td>-76.936088</td>\n      <td>38.982452</td>\n      <td>2020</td>\n    </tr>\n  </tbody>\n</table>\n</div>"
     },
     "metadata": {},
     "execution_count": 84
    }
   ],
   "source": [
    "#dataset.head()\n",
    "dataset.tail()"
   ]
  },
  {
   "cell_type": "code",
   "execution_count": 19,
   "metadata": {},
   "outputs": [
    {
     "output_type": "execute_result",
     "data": {
      "text/plain": [
       "(40325, 16)"
      ]
     },
     "metadata": {},
     "execution_count": 19
    }
   ],
   "source": [
    "dataset.shape"
   ]
  },
  {
   "cell_type": "code",
   "execution_count": 44,
   "metadata": {},
   "outputs": [
    {
     "output_type": "execute_result",
     "data": {
      "text/plain": [
       "Unnamed: 0                    int64\n",
       "Unnamed: 0.1                  int64\n",
       "CREATED         datetime64[ns, UTC]\n",
       "START           datetime64[ns, UTC]\n",
       "END             datetime64[ns, UTC]\n",
       "DISTANCE                    float64\n",
       "RIDE_ID                       int64\n",
       "CUSTOMER_ID                   int64\n",
       "MINUTES                       int64\n",
       "VEHICLE_TYPE                 object\n",
       "PATH                         object\n",
       "TIMESTAMPS                   object\n",
       "START LONG                  float64\n",
       "START LAT                   float64\n",
       "END LONG                    float64\n",
       "END LAT                     float64\n",
       "dtype: object"
      ]
     },
     "metadata": {},
     "execution_count": 44
    }
   ],
   "source": [
    "dataset.dtypes"
   ]
  },
  {
   "cell_type": "code",
   "execution_count": 51,
   "metadata": {},
   "outputs": [],
   "source": [
    "# All the data types do not match lets fix them\n",
    "\n",
    "# Convert as Timestamp data\n",
    "dataset[\"CREATED\"] = pd.to_datetime(dataset[\"CREATED\"])\n",
    "# Convert as Timestamp data\n",
    "dataset[\"START\"] = pd.to_datetime(dataset[\"START\"])\n",
    "# Convert as Timestamp data\n",
    "dataset[\"END\"] = pd.to_datetime(dataset[\"END\"])\n",
    "# Convert timestamp as list\n",
    "dataset[\"TIMESTAMPS\"] = dataset[\"TIMESTAMPS\"].apply(eval)"
   ]
  },
  {
   "source": [
    "The dataset has 40325 rows and 16 columns"
   ],
   "cell_type": "markdown",
   "metadata": {}
  },
  {
   "cell_type": "code",
   "execution_count": 96,
   "metadata": {},
   "outputs": [
    {
     "output_type": "execute_result",
     "data": {
      "text/plain": [
       "2019"
      ]
     },
     "metadata": {},
     "execution_count": 96
    }
   ],
   "source": [
    "dataset[\"Year\"][12466]"
   ]
  },
  {
   "cell_type": "code",
   "execution_count": 95,
   "metadata": {
    "tags": []
   },
   "outputs": [
    {
     "output_type": "stream",
     "name": "stderr",
     "text": [
      "<ipython-input-95-5d6f9b1b9c5e>:3: SettingWithCopyWarning: \nA value is trying to be set on a copy of a slice from a DataFrame\n\nSee the caveats in the documentation: https://pandas.pydata.org/pandas-docs/stable/user_guide/indexing.html#returning-a-view-versus-a-copy\n  dataset[\"Year\"][index] = dataset[\"CREATED\"][index].year\n"
     ]
    }
   ],
   "source": [
    "# Get the year of each data entry\n",
    "for index, item in dataset.iterrows():\n",
    "    dataset[\"Year\"][index] = dataset[\"CREATED\"][index].year"
   ]
  },
  {
   "cell_type": "code",
   "execution_count": 97,
   "metadata": {},
   "outputs": [
    {
     "output_type": "execute_result",
     "data": {
      "text/plain": [
       "   Year  ride_count\n",
       "0  2019       18382\n",
       "1  2020       21943"
      ],
      "text/html": "<div>\n<style scoped>\n    .dataframe tbody tr th:only-of-type {\n        vertical-align: middle;\n    }\n\n    .dataframe tbody tr th {\n        vertical-align: top;\n    }\n\n    .dataframe thead th {\n        text-align: right;\n    }\n</style>\n<table border=\"1\" class=\"dataframe\">\n  <thead>\n    <tr style=\"text-align: right;\">\n      <th></th>\n      <th>Year</th>\n      <th>ride_count</th>\n    </tr>\n  </thead>\n  <tbody>\n    <tr>\n      <th>0</th>\n      <td>2019</td>\n      <td>18382</td>\n    </tr>\n    <tr>\n      <th>1</th>\n      <td>2020</td>\n      <td>21943</td>\n    </tr>\n  </tbody>\n</table>\n</div>"
     },
     "metadata": {},
     "execution_count": 97
    }
   ],
   "source": [
    "ride_count_year = dataset.groupby(\"Year\").size().reset_index(name='ride_count')\n",
    "ride_count_year"
   ]
  },
  {
   "source": [
    "The distance column is missing values"
   ],
   "cell_type": "markdown",
   "metadata": {}
  },
  {
   "cell_type": "code",
   "execution_count": 12,
   "metadata": {},
   "outputs": [
    {
     "output_type": "execute_result",
     "data": {
      "text/plain": [
       "2273"
      ]
     },
     "metadata": {},
     "execution_count": 12
    }
   ],
   "source": [
    "dataset[\"DISTANCE\"].isna().sum()\n",
    "#dataset[\"DISTANCE\"].dropna()"
   ]
  },
  {
   "source": [
    "Total of 2273 missing datapoint for distance. No sure how to deal with this yet."
   ],
   "cell_type": "markdown",
   "metadata": {}
  },
  {
   "source": [
    "Next we separate all ride by years: October 2020 and October 2019"
   ],
   "cell_type": "markdown",
   "metadata": {}
  },
  {
   "cell_type": "code",
   "execution_count": 57,
   "metadata": {},
   "outputs": [
    {
     "output_type": "stream",
     "name": "stdout",
     "text": [
      "<pandas.core.groupby.generic.DataFrameGroupBy object at 0x7fde7aaed400>\n"
     ]
    }
   ],
   "source": [
    "dataset.groupby(\"CREATED\")"
   ]
  },
  {
   "cell_type": "code",
   "execution_count": null,
   "metadata": {},
   "outputs": [],
   "source": []
  }
 ]
}