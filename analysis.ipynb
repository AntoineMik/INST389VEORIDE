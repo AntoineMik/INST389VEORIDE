{
 "metadata": {
  "language_info": {
   "codemirror_mode": {
    "name": "ipython",
    "version": 3
   },
   "file_extension": ".py",
   "mimetype": "text/x-python",
   "name": "python",
   "nbconvert_exporter": "python",
   "pygments_lexer": "ipython3",
   "version": "3.8.8"
  },
  "orig_nbformat": 2,
  "kernelspec": {
   "name": "python3",
   "display_name": "Python 3.8.8 64-bit ('base': conda)"
  },
  "metadata": {
   "interpreter": {
    "hash": "2db524e06e9f5f4ffedc911c917cb75e12dbc923643829bf417064a77eb14d37"
   }
  },
  "interpreter": {
   "hash": "6755aa49167bcdd6def9e8e324169bf6209b1ae9f05c70b157aa909078be9c06"
  }
 },
 "nbformat": 4,
 "nbformat_minor": 2,
 "cells": [
  {
   "cell_type": "code",
   "execution_count": 2,
   "metadata": {},
   "outputs": [],
   "source": [
    "import pandas as pd\n",
    "import numpy as np\n",
    "import json"
   ]
  },
  {
   "source": [
    "Importing the data as a dataframe."
   ],
   "cell_type": "markdown",
   "metadata": {}
  },
  {
   "cell_type": "code",
   "execution_count": 34,
   "metadata": {},
   "outputs": [],
   "source": [
    "original_dataset = pd.read_csv(\"data/Data_Lv3_UMDOTS_Escooters.csv\")"
   ]
  },
  {
   "source": [
    "Visualizing a few data point and checking the size of the dataset."
   ],
   "cell_type": "markdown",
   "metadata": {}
  },
  {
   "cell_type": "code",
   "execution_count": 35,
   "metadata": {},
   "outputs": [
    {
     "output_type": "execute_result",
     "data": {
      "text/plain": [
       "   Unnamed: 0  Unnamed: 0.1                    CREATED  \\\n",
       "0           0             0  2020-10-03 03:32:15+00:00   \n",
       "1           1             1  2020-10-03 03:07:39+00:00   \n",
       "2           2             2  2020-10-03 03:17:05+00:00   \n",
       "3           3             3  2020-10-03 02:24:58+00:00   \n",
       "4           4             4  2020-10-03 03:19:34+00:00   \n",
       "\n",
       "                       START                        END  DISTANCE  RIDE_ID  \\\n",
       "0  2020-10-03 03:32:15+00:00  2020-10-03 03:32:46+00:00     0.008  3135665   \n",
       "1  2020-10-03 03:07:39+00:00  2020-10-03 03:37:06+00:00     1.062  3135395   \n",
       "2  2020-10-03 03:17:05+00:00  2020-10-03 03:24:24+00:00     0.847  3135503   \n",
       "3  2020-10-03 02:24:58+00:00  2020-10-03 03:11:56+00:00     3.447  3134955   \n",
       "4  2020-10-03 03:19:34+00:00  2020-10-03 03:22:45+00:00     0.386  3135529   \n",
       "\n",
       "   CUSTOMER_ID  MINUTES VEHICLE_TYPE  \\\n",
       "0       193964        1      Scooter   \n",
       "1       542947       30      Scooter   \n",
       "2       517321        8      Scooter   \n",
       "3       578051       47      Scooter   \n",
       "4       552305        4      Scooter   \n",
       "\n",
       "                                                PATH  \\\n",
       "0  {\\n  \"coordinates\": [\\n    [\\n      -76.934163...   \n",
       "1  {\\n  \"coordinates\": [\\n    [\\n      -76.938180...   \n",
       "2  {\\n  \"coordinates\": [\\n    [\\n      -76.937599...   \n",
       "3  {\\n  \"coordinates\": [\\n    [\\n      -76.943553...   \n",
       "4  {\\n  \"coordinates\": [\\n    [\\n      -76.938115...   \n",
       "\n",
       "                                          TIMESTAMPS  START LONG  START LAT  \\\n",
       "0  [\\n  \"2020-10-03T03:32:14Z\",\\n  \"2020-10-03T03...  -76.934163  38.990656   \n",
       "1  [\\n  \"2020-10-03T03:07:46Z\",\\n  \"2020-10-03T03...  -76.938181  38.982087   \n",
       "2  [\\n  \"2020-10-03T03:17:12Z\",\\n  \"2020-10-03T03...  -76.937600  38.979613   \n",
       "3  [\\n  \"2020-10-03T02:25:04Z\",\\n  \"2020-10-03T02...  -76.943553  38.982470   \n",
       "4  [\\n  \"2020-10-03T03:19:40Z\",\\n  \"2020-10-03T03...  -76.938116  38.982084   \n",
       "\n",
       "    END LONG    END LAT  \n",
       "0 -76.934285  38.990739  \n",
       "1 -76.949165  38.992849  \n",
       "2 -76.933335  38.992676  \n",
       "3 -76.943546  38.982476  \n",
       "4 -76.943257  38.986101  "
      ],
      "text/html": "<div>\n<style scoped>\n    .dataframe tbody tr th:only-of-type {\n        vertical-align: middle;\n    }\n\n    .dataframe tbody tr th {\n        vertical-align: top;\n    }\n\n    .dataframe thead th {\n        text-align: right;\n    }\n</style>\n<table border=\"1\" class=\"dataframe\">\n  <thead>\n    <tr style=\"text-align: right;\">\n      <th></th>\n      <th>Unnamed: 0</th>\n      <th>Unnamed: 0.1</th>\n      <th>CREATED</th>\n      <th>START</th>\n      <th>END</th>\n      <th>DISTANCE</th>\n      <th>RIDE_ID</th>\n      <th>CUSTOMER_ID</th>\n      <th>MINUTES</th>\n      <th>VEHICLE_TYPE</th>\n      <th>PATH</th>\n      <th>TIMESTAMPS</th>\n      <th>START LONG</th>\n      <th>START LAT</th>\n      <th>END LONG</th>\n      <th>END LAT</th>\n    </tr>\n  </thead>\n  <tbody>\n    <tr>\n      <th>0</th>\n      <td>0</td>\n      <td>0</td>\n      <td>2020-10-03 03:32:15+00:00</td>\n      <td>2020-10-03 03:32:15+00:00</td>\n      <td>2020-10-03 03:32:46+00:00</td>\n      <td>0.008</td>\n      <td>3135665</td>\n      <td>193964</td>\n      <td>1</td>\n      <td>Scooter</td>\n      <td>{\\n  \"coordinates\": [\\n    [\\n      -76.934163...</td>\n      <td>[\\n  \"2020-10-03T03:32:14Z\",\\n  \"2020-10-03T03...</td>\n      <td>-76.934163</td>\n      <td>38.990656</td>\n      <td>-76.934285</td>\n      <td>38.990739</td>\n    </tr>\n    <tr>\n      <th>1</th>\n      <td>1</td>\n      <td>1</td>\n      <td>2020-10-03 03:07:39+00:00</td>\n      <td>2020-10-03 03:07:39+00:00</td>\n      <td>2020-10-03 03:37:06+00:00</td>\n      <td>1.062</td>\n      <td>3135395</td>\n      <td>542947</td>\n      <td>30</td>\n      <td>Scooter</td>\n      <td>{\\n  \"coordinates\": [\\n    [\\n      -76.938180...</td>\n      <td>[\\n  \"2020-10-03T03:07:46Z\",\\n  \"2020-10-03T03...</td>\n      <td>-76.938181</td>\n      <td>38.982087</td>\n      <td>-76.949165</td>\n      <td>38.992849</td>\n    </tr>\n    <tr>\n      <th>2</th>\n      <td>2</td>\n      <td>2</td>\n      <td>2020-10-03 03:17:05+00:00</td>\n      <td>2020-10-03 03:17:05+00:00</td>\n      <td>2020-10-03 03:24:24+00:00</td>\n      <td>0.847</td>\n      <td>3135503</td>\n      <td>517321</td>\n      <td>8</td>\n      <td>Scooter</td>\n      <td>{\\n  \"coordinates\": [\\n    [\\n      -76.937599...</td>\n      <td>[\\n  \"2020-10-03T03:17:12Z\",\\n  \"2020-10-03T03...</td>\n      <td>-76.937600</td>\n      <td>38.979613</td>\n      <td>-76.933335</td>\n      <td>38.992676</td>\n    </tr>\n    <tr>\n      <th>3</th>\n      <td>3</td>\n      <td>3</td>\n      <td>2020-10-03 02:24:58+00:00</td>\n      <td>2020-10-03 02:24:58+00:00</td>\n      <td>2020-10-03 03:11:56+00:00</td>\n      <td>3.447</td>\n      <td>3134955</td>\n      <td>578051</td>\n      <td>47</td>\n      <td>Scooter</td>\n      <td>{\\n  \"coordinates\": [\\n    [\\n      -76.943553...</td>\n      <td>[\\n  \"2020-10-03T02:25:04Z\",\\n  \"2020-10-03T02...</td>\n      <td>-76.943553</td>\n      <td>38.982470</td>\n      <td>-76.943546</td>\n      <td>38.982476</td>\n    </tr>\n    <tr>\n      <th>4</th>\n      <td>4</td>\n      <td>4</td>\n      <td>2020-10-03 03:19:34+00:00</td>\n      <td>2020-10-03 03:19:34+00:00</td>\n      <td>2020-10-03 03:22:45+00:00</td>\n      <td>0.386</td>\n      <td>3135529</td>\n      <td>552305</td>\n      <td>4</td>\n      <td>Scooter</td>\n      <td>{\\n  \"coordinates\": [\\n    [\\n      -76.938115...</td>\n      <td>[\\n  \"2020-10-03T03:19:40Z\",\\n  \"2020-10-03T03...</td>\n      <td>-76.938116</td>\n      <td>38.982084</td>\n      <td>-76.943257</td>\n      <td>38.986101</td>\n    </tr>\n  </tbody>\n</table>\n</div>"
     },
     "metadata": {},
     "execution_count": 35
    }
   ],
   "source": [
    "original_dataset.head()"
   ]
  },
  {
   "cell_type": "code",
   "execution_count": 36,
   "metadata": {},
   "outputs": [
    {
     "output_type": "execute_result",
     "data": {
      "text/plain": [
       "(40325, 16)"
      ]
     },
     "metadata": {},
     "execution_count": 36
    }
   ],
   "source": [
    "original_dataset.shape"
   ]
  },
  {
   "source": [
    "The dataset has 40325 rows and 16 columns"
   ],
   "cell_type": "markdown",
   "metadata": {}
  },
  {
   "source": [
    "### Transforming the imported data to match the appropriate type"
   ],
   "cell_type": "markdown",
   "metadata": {}
  },
  {
   "cell_type": "code",
   "execution_count": 37,
   "metadata": {},
   "outputs": [],
   "source": [
    "# Copy of imported data\n",
    "new_dataset = original_dataset.copy()"
   ]
  },
  {
   "cell_type": "code",
   "execution_count": 38,
   "metadata": {},
   "outputs": [],
   "source": [
    "\n",
    "# Convert as Timestamp data\n",
    "new_dataset[\"CREATED\"] = pd.to_datetime(new_dataset[\"CREATED\"])\n",
    "# Convert as Timestamp data\n",
    "new_dataset[\"START\"] = pd.to_datetime(new_dataset[\"START\"])\n",
    "# Convert as Timestamp data\n",
    "new_dataset[\"END\"] = pd.to_datetime(new_dataset[\"END\"])\n",
    "# Convert timestamp as list\n",
    "new_dataset[\"TIMESTAMPS\"] = new_dataset[\"TIMESTAMPS\"].apply(eval)\n",
    "# Get the path data as JSON\n",
    "new_dataset[\"PATH\"] = new_dataset[\"PATH\"].apply(json.loads)\n",
    "# Convert the path data to a list\n",
    "new_dataset[\"PATH\"] = new_dataset[\"PATH\"].to_list()"
   ]
  },
  {
   "cell_type": "code",
   "execution_count": 45,
   "metadata": {},
   "outputs": [
    {
     "output_type": "execute_result",
     "data": {
      "text/plain": [
       "Unnamed: 0                    int64\n",
       "Unnamed: 0.1                  int64\n",
       "CREATED         datetime64[ns, UTC]\n",
       "START           datetime64[ns, UTC]\n",
       "END             datetime64[ns, UTC]\n",
       "DISTANCE                    float64\n",
       "RIDE_ID                       int64\n",
       "CUSTOMER_ID                   int64\n",
       "MINUTES                       int64\n",
       "VEHICLE_TYPE                 object\n",
       "PATH                         object\n",
       "TIMESTAMPS                   object\n",
       "START LONG                  float64\n",
       "START LAT                   float64\n",
       "END LONG                    float64\n",
       "END LAT                     float64\n",
       "dtype: object"
      ]
     },
     "metadata": {},
     "execution_count": 45
    }
   ],
   "source": [
    "# Verifying data types\n",
    "new_dataset.dtypes"
   ]
  },
  {
   "cell_type": "code",
   "execution_count": 40,
   "metadata": {},
   "outputs": [
    {
     "output_type": "execute_result",
     "data": {
      "text/plain": [
       "   Unnamed: 0  Unnamed: 0.1                   CREATED  \\\n",
       "0           0             0 2020-10-03 03:32:15+00:00   \n",
       "1           1             1 2020-10-03 03:07:39+00:00   \n",
       "2           2             2 2020-10-03 03:17:05+00:00   \n",
       "3           3             3 2020-10-03 02:24:58+00:00   \n",
       "4           4             4 2020-10-03 03:19:34+00:00   \n",
       "\n",
       "                      START                       END  DISTANCE  RIDE_ID  \\\n",
       "0 2020-10-03 03:32:15+00:00 2020-10-03 03:32:46+00:00     0.008  3135665   \n",
       "1 2020-10-03 03:07:39+00:00 2020-10-03 03:37:06+00:00     1.062  3135395   \n",
       "2 2020-10-03 03:17:05+00:00 2020-10-03 03:24:24+00:00     0.847  3135503   \n",
       "3 2020-10-03 02:24:58+00:00 2020-10-03 03:11:56+00:00     3.447  3134955   \n",
       "4 2020-10-03 03:19:34+00:00 2020-10-03 03:22:45+00:00     0.386  3135529   \n",
       "\n",
       "   CUSTOMER_ID  MINUTES VEHICLE_TYPE  \\\n",
       "0       193964        1      Scooter   \n",
       "1       542947       30      Scooter   \n",
       "2       517321        8      Scooter   \n",
       "3       578051       47      Scooter   \n",
       "4       552305        4      Scooter   \n",
       "\n",
       "                                                PATH  \\\n",
       "0  {'coordinates': [[-76.934163, 38.9906555], [-7...   \n",
       "1  {'coordinates': [[-76.93818083333333, 38.98208...   \n",
       "2  {'coordinates': [[-76.93759983333334, 38.97961...   \n",
       "3  {'coordinates': [[-76.94355316666666, 38.98247...   \n",
       "4  {'coordinates': [[-76.93811566666666, 38.98208...   \n",
       "\n",
       "                                          TIMESTAMPS  START LONG  START LAT  \\\n",
       "0       [2020-10-03T03:32:14Z, 2020-10-03T03:32:30Z]  -76.934163  38.990656   \n",
       "1  [2020-10-03T03:07:46Z, 2020-10-03T03:12:16Z, 2...  -76.938181  38.982087   \n",
       "2  [2020-10-03T03:17:12Z, 2020-10-03T03:17:32Z, 2...  -76.937600  38.979613   \n",
       "3  [2020-10-03T02:25:04Z, 2020-10-03T02:26:24Z, 2...  -76.943553  38.982470   \n",
       "4  [2020-10-03T03:19:40Z, 2020-10-03T03:19:45Z, 2...  -76.938116  38.982084   \n",
       "\n",
       "    END LONG    END LAT  \n",
       "0 -76.934285  38.990739  \n",
       "1 -76.949165  38.992849  \n",
       "2 -76.933335  38.992676  \n",
       "3 -76.943546  38.982476  \n",
       "4 -76.943257  38.986101  "
      ],
      "text/html": "<div>\n<style scoped>\n    .dataframe tbody tr th:only-of-type {\n        vertical-align: middle;\n    }\n\n    .dataframe tbody tr th {\n        vertical-align: top;\n    }\n\n    .dataframe thead th {\n        text-align: right;\n    }\n</style>\n<table border=\"1\" class=\"dataframe\">\n  <thead>\n    <tr style=\"text-align: right;\">\n      <th></th>\n      <th>Unnamed: 0</th>\n      <th>Unnamed: 0.1</th>\n      <th>CREATED</th>\n      <th>START</th>\n      <th>END</th>\n      <th>DISTANCE</th>\n      <th>RIDE_ID</th>\n      <th>CUSTOMER_ID</th>\n      <th>MINUTES</th>\n      <th>VEHICLE_TYPE</th>\n      <th>PATH</th>\n      <th>TIMESTAMPS</th>\n      <th>START LONG</th>\n      <th>START LAT</th>\n      <th>END LONG</th>\n      <th>END LAT</th>\n    </tr>\n  </thead>\n  <tbody>\n    <tr>\n      <th>0</th>\n      <td>0</td>\n      <td>0</td>\n      <td>2020-10-03 03:32:15+00:00</td>\n      <td>2020-10-03 03:32:15+00:00</td>\n      <td>2020-10-03 03:32:46+00:00</td>\n      <td>0.008</td>\n      <td>3135665</td>\n      <td>193964</td>\n      <td>1</td>\n      <td>Scooter</td>\n      <td>{'coordinates': [[-76.934163, 38.9906555], [-7...</td>\n      <td>[2020-10-03T03:32:14Z, 2020-10-03T03:32:30Z]</td>\n      <td>-76.934163</td>\n      <td>38.990656</td>\n      <td>-76.934285</td>\n      <td>38.990739</td>\n    </tr>\n    <tr>\n      <th>1</th>\n      <td>1</td>\n      <td>1</td>\n      <td>2020-10-03 03:07:39+00:00</td>\n      <td>2020-10-03 03:07:39+00:00</td>\n      <td>2020-10-03 03:37:06+00:00</td>\n      <td>1.062</td>\n      <td>3135395</td>\n      <td>542947</td>\n      <td>30</td>\n      <td>Scooter</td>\n      <td>{'coordinates': [[-76.93818083333333, 38.98208...</td>\n      <td>[2020-10-03T03:07:46Z, 2020-10-03T03:12:16Z, 2...</td>\n      <td>-76.938181</td>\n      <td>38.982087</td>\n      <td>-76.949165</td>\n      <td>38.992849</td>\n    </tr>\n    <tr>\n      <th>2</th>\n      <td>2</td>\n      <td>2</td>\n      <td>2020-10-03 03:17:05+00:00</td>\n      <td>2020-10-03 03:17:05+00:00</td>\n      <td>2020-10-03 03:24:24+00:00</td>\n      <td>0.847</td>\n      <td>3135503</td>\n      <td>517321</td>\n      <td>8</td>\n      <td>Scooter</td>\n      <td>{'coordinates': [[-76.93759983333334, 38.97961...</td>\n      <td>[2020-10-03T03:17:12Z, 2020-10-03T03:17:32Z, 2...</td>\n      <td>-76.937600</td>\n      <td>38.979613</td>\n      <td>-76.933335</td>\n      <td>38.992676</td>\n    </tr>\n    <tr>\n      <th>3</th>\n      <td>3</td>\n      <td>3</td>\n      <td>2020-10-03 02:24:58+00:00</td>\n      <td>2020-10-03 02:24:58+00:00</td>\n      <td>2020-10-03 03:11:56+00:00</td>\n      <td>3.447</td>\n      <td>3134955</td>\n      <td>578051</td>\n      <td>47</td>\n      <td>Scooter</td>\n      <td>{'coordinates': [[-76.94355316666666, 38.98247...</td>\n      <td>[2020-10-03T02:25:04Z, 2020-10-03T02:26:24Z, 2...</td>\n      <td>-76.943553</td>\n      <td>38.982470</td>\n      <td>-76.943546</td>\n      <td>38.982476</td>\n    </tr>\n    <tr>\n      <th>4</th>\n      <td>4</td>\n      <td>4</td>\n      <td>2020-10-03 03:19:34+00:00</td>\n      <td>2020-10-03 03:19:34+00:00</td>\n      <td>2020-10-03 03:22:45+00:00</td>\n      <td>0.386</td>\n      <td>3135529</td>\n      <td>552305</td>\n      <td>4</td>\n      <td>Scooter</td>\n      <td>{'coordinates': [[-76.93811566666666, 38.98208...</td>\n      <td>[2020-10-03T03:19:40Z, 2020-10-03T03:19:45Z, 2...</td>\n      <td>-76.938116</td>\n      <td>38.982084</td>\n      <td>-76.943257</td>\n      <td>38.986101</td>\n    </tr>\n  </tbody>\n</table>\n</div>"
     },
     "metadata": {},
     "execution_count": 40
    }
   ],
   "source": [
    "new_dataset.head(5)"
   ]
  },
  {
   "cell_type": "code",
   "execution_count": 44,
   "metadata": {},
   "outputs": [
    {
     "output_type": "execute_result",
     "data": {
      "text/plain": [
       "[[-76.934163, 38.9906555], [-76.93428483333334, 38.990738666666665]]"
      ]
     },
     "metadata": {},
     "execution_count": 44
    }
   ],
   "source": [
    "# Sample path as list\n",
    "new_dataset[\"PATH\"][0][\"coordinates\"]"
   ]
  },
  {
   "source": [
    "## Checking for missing values, Data processing and cleaning"
   ],
   "cell_type": "markdown",
   "metadata": {}
  },
  {
   "cell_type": "code",
   "execution_count": 14,
   "metadata": {},
   "outputs": [
    {
     "output_type": "execute_result",
     "data": {
      "text/plain": [
       "Unnamed: 0      False\n",
       "Unnamed: 0.1    False\n",
       "CREATED         False\n",
       "START           False\n",
       "END             False\n",
       "DISTANCE         True\n",
       "RIDE_ID         False\n",
       "CUSTOMER_ID     False\n",
       "MINUTES         False\n",
       "VEHICLE_TYPE    False\n",
       "PATH            False\n",
       "TIMESTAMPS      False\n",
       "START LONG      False\n",
       "START LAT       False\n",
       "END LONG        False\n",
       "END LAT         False\n",
       "dtype: bool"
      ]
     },
     "metadata": {},
     "execution_count": 14
    }
   ],
   "source": [
    "# Checking for missing values\n",
    "new_dataset.isna().any()"
   ]
  },
  {
   "source": [
    "The distance column has missing values"
   ],
   "cell_type": "markdown",
   "metadata": {}
  },
  {
   "cell_type": "code",
   "execution_count": 46,
   "metadata": {},
   "outputs": [
    {
     "output_type": "execute_result",
     "data": {
      "text/plain": [
       "2273"
      ]
     },
     "metadata": {},
     "execution_count": 46
    }
   ],
   "source": [
    "new_dataset[\"DISTANCE\"].isna().sum()\n",
    "#dataset[\"DISTANCE\"].dropna()"
   ]
  },
  {
   "source": [
    "Total of 2273 missing datapoints for the distance variables. No sure how to deal with this yet."
   ],
   "cell_type": "markdown",
   "metadata": {}
  },
  {
   "source": [
    "Next we separate all ride by years: October 2020 and October 2019"
   ],
   "cell_type": "markdown",
   "metadata": {}
  },
  {
   "cell_type": "code",
   "execution_count": 49,
   "metadata": {},
   "outputs": [],
   "source": [
    "# Initialize new columns\n",
    "new_dataset[\"Year\"] = new_dataset[\"CREATED\"][0].year"
   ]
  },
  {
   "cell_type": "code",
   "execution_count": 50,
   "metadata": {
    "tags": []
   },
   "outputs": [
    {
     "output_type": "stream",
     "name": "stderr",
     "text": [
      "<ipython-input-50-ede04ab104ba>:3: SettingWithCopyWarning: \nA value is trying to be set on a copy of a slice from a DataFrame\n\nSee the caveats in the documentation: https://pandas.pydata.org/pandas-docs/stable/user_guide/indexing.html#returning-a-view-versus-a-copy\n  new_dataset[\"Year\"][index] = new_dataset[\"CREATED\"][index].year\n"
     ]
    }
   ],
   "source": [
    "# Get the year of each data entry\n",
    "for index, item in new_dataset.iterrows():\n",
    "    new_dataset[\"Year\"][index] = new_dataset[\"CREATED\"][index].year"
   ]
  },
  {
   "cell_type": "code",
   "execution_count": 51,
   "metadata": {},
   "outputs": [
    {
     "output_type": "execute_result",
     "data": {
      "text/plain": [
       "   Year  ride_count\n",
       "0  2019       18382\n",
       "1  2020       21943"
      ],
      "text/html": "<div>\n<style scoped>\n    .dataframe tbody tr th:only-of-type {\n        vertical-align: middle;\n    }\n\n    .dataframe tbody tr th {\n        vertical-align: top;\n    }\n\n    .dataframe thead th {\n        text-align: right;\n    }\n</style>\n<table border=\"1\" class=\"dataframe\">\n  <thead>\n    <tr style=\"text-align: right;\">\n      <th></th>\n      <th>Year</th>\n      <th>ride_count</th>\n    </tr>\n  </thead>\n  <tbody>\n    <tr>\n      <th>0</th>\n      <td>2019</td>\n      <td>18382</td>\n    </tr>\n    <tr>\n      <th>1</th>\n      <td>2020</td>\n      <td>21943</td>\n    </tr>\n  </tbody>\n</table>\n</div>"
     },
     "metadata": {},
     "execution_count": 51
    }
   ],
   "source": [
    "ride_count_year = new_dataset.groupby(\"Year\").size().reset_index(name='ride_count')\n",
    "ride_count_year"
   ]
  },
  {
   "cell_type": "code",
   "execution_count": 54,
   "metadata": {},
   "outputs": [
    {
     "output_type": "execute_result",
     "data": {
      "text/plain": [
       "   Unnamed: 0  Unnamed: 0.1                   CREATED  \\\n",
       "0           0             0 2020-10-03 03:32:15+00:00   \n",
       "1           1             1 2020-10-03 03:07:39+00:00   \n",
       "2           2             2 2020-10-03 03:17:05+00:00   \n",
       "\n",
       "                      START                       END  DISTANCE  RIDE_ID  \\\n",
       "0 2020-10-03 03:32:15+00:00 2020-10-03 03:32:46+00:00     0.008  3135665   \n",
       "1 2020-10-03 03:07:39+00:00 2020-10-03 03:37:06+00:00     1.062  3135395   \n",
       "2 2020-10-03 03:17:05+00:00 2020-10-03 03:24:24+00:00     0.847  3135503   \n",
       "\n",
       "   CUSTOMER_ID  MINUTES VEHICLE_TYPE  \\\n",
       "0       193964        1      Scooter   \n",
       "1       542947       30      Scooter   \n",
       "2       517321        8      Scooter   \n",
       "\n",
       "                                                PATH  \\\n",
       "0  {'coordinates': [[-76.934163, 38.9906555], [-7...   \n",
       "1  {'coordinates': [[-76.93818083333333, 38.98208...   \n",
       "2  {'coordinates': [[-76.93759983333334, 38.97961...   \n",
       "\n",
       "                                          TIMESTAMPS  START LONG  START LAT  \\\n",
       "0       [2020-10-03T03:32:14Z, 2020-10-03T03:32:30Z]  -76.934163  38.990656   \n",
       "1  [2020-10-03T03:07:46Z, 2020-10-03T03:12:16Z, 2...  -76.938181  38.982087   \n",
       "2  [2020-10-03T03:17:12Z, 2020-10-03T03:17:32Z, 2...  -76.937600  38.979613   \n",
       "\n",
       "    END LONG    END LAT  Year  \n",
       "0 -76.934285  38.990739  2020  \n",
       "1 -76.949165  38.992849  2020  \n",
       "2 -76.933335  38.992676  2020  "
      ],
      "text/html": "<div>\n<style scoped>\n    .dataframe tbody tr th:only-of-type {\n        vertical-align: middle;\n    }\n\n    .dataframe tbody tr th {\n        vertical-align: top;\n    }\n\n    .dataframe thead th {\n        text-align: right;\n    }\n</style>\n<table border=\"1\" class=\"dataframe\">\n  <thead>\n    <tr style=\"text-align: right;\">\n      <th></th>\n      <th>Unnamed: 0</th>\n      <th>Unnamed: 0.1</th>\n      <th>CREATED</th>\n      <th>START</th>\n      <th>END</th>\n      <th>DISTANCE</th>\n      <th>RIDE_ID</th>\n      <th>CUSTOMER_ID</th>\n      <th>MINUTES</th>\n      <th>VEHICLE_TYPE</th>\n      <th>PATH</th>\n      <th>TIMESTAMPS</th>\n      <th>START LONG</th>\n      <th>START LAT</th>\n      <th>END LONG</th>\n      <th>END LAT</th>\n      <th>Year</th>\n    </tr>\n  </thead>\n  <tbody>\n    <tr>\n      <th>0</th>\n      <td>0</td>\n      <td>0</td>\n      <td>2020-10-03 03:32:15+00:00</td>\n      <td>2020-10-03 03:32:15+00:00</td>\n      <td>2020-10-03 03:32:46+00:00</td>\n      <td>0.008</td>\n      <td>3135665</td>\n      <td>193964</td>\n      <td>1</td>\n      <td>Scooter</td>\n      <td>{'coordinates': [[-76.934163, 38.9906555], [-7...</td>\n      <td>[2020-10-03T03:32:14Z, 2020-10-03T03:32:30Z]</td>\n      <td>-76.934163</td>\n      <td>38.990656</td>\n      <td>-76.934285</td>\n      <td>38.990739</td>\n      <td>2020</td>\n    </tr>\n    <tr>\n      <th>1</th>\n      <td>1</td>\n      <td>1</td>\n      <td>2020-10-03 03:07:39+00:00</td>\n      <td>2020-10-03 03:07:39+00:00</td>\n      <td>2020-10-03 03:37:06+00:00</td>\n      <td>1.062</td>\n      <td>3135395</td>\n      <td>542947</td>\n      <td>30</td>\n      <td>Scooter</td>\n      <td>{'coordinates': [[-76.93818083333333, 38.98208...</td>\n      <td>[2020-10-03T03:07:46Z, 2020-10-03T03:12:16Z, 2...</td>\n      <td>-76.938181</td>\n      <td>38.982087</td>\n      <td>-76.949165</td>\n      <td>38.992849</td>\n      <td>2020</td>\n    </tr>\n    <tr>\n      <th>2</th>\n      <td>2</td>\n      <td>2</td>\n      <td>2020-10-03 03:17:05+00:00</td>\n      <td>2020-10-03 03:17:05+00:00</td>\n      <td>2020-10-03 03:24:24+00:00</td>\n      <td>0.847</td>\n      <td>3135503</td>\n      <td>517321</td>\n      <td>8</td>\n      <td>Scooter</td>\n      <td>{'coordinates': [[-76.93759983333334, 38.97961...</td>\n      <td>[2020-10-03T03:17:12Z, 2020-10-03T03:17:32Z, 2...</td>\n      <td>-76.937600</td>\n      <td>38.979613</td>\n      <td>-76.933335</td>\n      <td>38.992676</td>\n      <td>2020</td>\n    </tr>\n  </tbody>\n</table>\n</div>"
     },
     "metadata": {},
     "execution_count": 54
    }
   ],
   "source": [
    "new_dataset.head(3)"
   ]
  },
  {
   "source": [
    "# Separate dataset by years"
   ],
   "cell_type": "markdown",
   "metadata": {}
  },
  {
   "cell_type": "code",
   "execution_count": 57,
   "metadata": {},
   "outputs": [],
   "source": [
    "# 2019 dataset\n",
    "new_dataset_2019 = new_dataset.groupby(new_dataset.Year).get_group(2019)\n",
    "# 2020 dataset\n",
    "new_dataset_2020 = new_dataset.groupby(new_dataset.Year).get_group(2020)"
   ]
  },
  {
   "cell_type": "code",
   "execution_count": null,
   "metadata": {},
   "outputs": [],
   "source": []
  },
  {
   "cell_type": "code",
   "execution_count": 19,
   "metadata": {},
   "outputs": [],
   "source": [
    "import folium\n",
    "from folium.plugins import MarkerCluster"
   ]
  },
  {
   "cell_type": "code",
   "execution_count": 33,
   "metadata": {},
   "outputs": [],
   "source": [
    "# Initialize the global map using foolium\n",
    "latitude = 0.0\n",
    "longitude = 150\n",
    "cp_longitude = -76.937144\n",
    "cp_latitude = 38.989643\n",
    "umd_latitude = 39.0457549\n",
    "umd_longitude = -76.6412712\n"
   ]
  },
  {
   "cell_type": "code",
   "execution_count": 48,
   "metadata": {},
   "outputs": [
    {
     "output_type": "display_data",
     "data": {
      "text/plain": "<folium.folium.Map at 0x7f85a55ae280>",
      "text/html": "<div style=\"width:100%;\"><div style=\"position:relative;width:100%;height:0;padding-bottom:60%;\"><span style=\"color:#565656\">Make this Notebook Trusted to load map: File -> Trust Notebook</span><iframe src=\"about:blank\" style=\"position:absolute;width:100%;height:100%;left:0;top:0;border:none !important;\" data-html=%3C%21DOCTYPE%20html%3E%0A%3Chead%3E%20%20%20%20%0A%20%20%20%20%3Cmeta%20http-equiv%3D%22content-type%22%20content%3D%22text/html%3B%20charset%3DUTF-8%22%20/%3E%0A%20%20%20%20%0A%20%20%20%20%20%20%20%20%3Cscript%3E%0A%20%20%20%20%20%20%20%20%20%20%20%20L_NO_TOUCH%20%3D%20false%3B%0A%20%20%20%20%20%20%20%20%20%20%20%20L_DISABLE_3D%20%3D%20false%3B%0A%20%20%20%20%20%20%20%20%3C/script%3E%0A%20%20%20%20%0A%20%20%20%20%3Cstyle%3Ehtml%2C%20body%20%7Bwidth%3A%20100%25%3Bheight%3A%20100%25%3Bmargin%3A%200%3Bpadding%3A%200%3B%7D%3C/style%3E%0A%20%20%20%20%3Cstyle%3E%23map%20%7Bposition%3Aabsolute%3Btop%3A0%3Bbottom%3A0%3Bright%3A0%3Bleft%3A0%3B%7D%3C/style%3E%0A%20%20%20%20%3Cscript%20src%3D%22https%3A//cdn.jsdelivr.net/npm/leaflet%401.6.0/dist/leaflet.js%22%3E%3C/script%3E%0A%20%20%20%20%3Cscript%20src%3D%22https%3A//code.jquery.com/jquery-1.12.4.min.js%22%3E%3C/script%3E%0A%20%20%20%20%3Cscript%20src%3D%22https%3A//maxcdn.bootstrapcdn.com/bootstrap/3.2.0/js/bootstrap.min.js%22%3E%3C/script%3E%0A%20%20%20%20%3Cscript%20src%3D%22https%3A//cdnjs.cloudflare.com/ajax/libs/Leaflet.awesome-markers/2.0.2/leaflet.awesome-markers.js%22%3E%3C/script%3E%0A%20%20%20%20%3Clink%20rel%3D%22stylesheet%22%20href%3D%22https%3A//cdn.jsdelivr.net/npm/leaflet%401.6.0/dist/leaflet.css%22/%3E%0A%20%20%20%20%3Clink%20rel%3D%22stylesheet%22%20href%3D%22https%3A//maxcdn.bootstrapcdn.com/bootstrap/3.2.0/css/bootstrap.min.css%22/%3E%0A%20%20%20%20%3Clink%20rel%3D%22stylesheet%22%20href%3D%22https%3A//maxcdn.bootstrapcdn.com/bootstrap/3.2.0/css/bootstrap-theme.min.css%22/%3E%0A%20%20%20%20%3Clink%20rel%3D%22stylesheet%22%20href%3D%22https%3A//maxcdn.bootstrapcdn.com/font-awesome/4.6.3/css/font-awesome.min.css%22/%3E%0A%20%20%20%20%3Clink%20rel%3D%22stylesheet%22%20href%3D%22https%3A//cdnjs.cloudflare.com/ajax/libs/Leaflet.awesome-markers/2.0.2/leaflet.awesome-markers.css%22/%3E%0A%20%20%20%20%3Clink%20rel%3D%22stylesheet%22%20href%3D%22https%3A//cdn.jsdelivr.net/gh/python-visualization/folium/folium/templates/leaflet.awesome.rotate.min.css%22/%3E%0A%20%20%20%20%0A%20%20%20%20%20%20%20%20%20%20%20%20%3Cmeta%20name%3D%22viewport%22%20content%3D%22width%3Ddevice-width%2C%0A%20%20%20%20%20%20%20%20%20%20%20%20%20%20%20%20initial-scale%3D1.0%2C%20maximum-scale%3D1.0%2C%20user-scalable%3Dno%22%20/%3E%0A%20%20%20%20%20%20%20%20%20%20%20%20%3Cstyle%3E%0A%20%20%20%20%20%20%20%20%20%20%20%20%20%20%20%20%23map_84e9973f121341ac9cd64eab15f10263%20%7B%0A%20%20%20%20%20%20%20%20%20%20%20%20%20%20%20%20%20%20%20%20position%3A%20relative%3B%0A%20%20%20%20%20%20%20%20%20%20%20%20%20%20%20%20%20%20%20%20width%3A%20100.0%25%3B%0A%20%20%20%20%20%20%20%20%20%20%20%20%20%20%20%20%20%20%20%20height%3A%20100.0%25%3B%0A%20%20%20%20%20%20%20%20%20%20%20%20%20%20%20%20%20%20%20%20left%3A%200.0%25%3B%0A%20%20%20%20%20%20%20%20%20%20%20%20%20%20%20%20%20%20%20%20top%3A%200.0%25%3B%0A%20%20%20%20%20%20%20%20%20%20%20%20%20%20%20%20%7D%0A%20%20%20%20%20%20%20%20%20%20%20%20%3C/style%3E%0A%20%20%20%20%20%20%20%20%0A%3C/head%3E%0A%3Cbody%3E%20%20%20%20%0A%20%20%20%20%0A%20%20%20%20%20%20%20%20%20%20%20%20%3Cdiv%20class%3D%22folium-map%22%20id%3D%22map_84e9973f121341ac9cd64eab15f10263%22%20%3E%3C/div%3E%0A%20%20%20%20%20%20%20%20%0A%3C/body%3E%0A%3Cscript%3E%20%20%20%20%0A%20%20%20%20%0A%20%20%20%20%20%20%20%20%20%20%20%20var%20map_84e9973f121341ac9cd64eab15f10263%20%3D%20L.map%28%0A%20%20%20%20%20%20%20%20%20%20%20%20%20%20%20%20%22map_84e9973f121341ac9cd64eab15f10263%22%2C%0A%20%20%20%20%20%20%20%20%20%20%20%20%20%20%20%20%7B%0A%20%20%20%20%20%20%20%20%20%20%20%20%20%20%20%20%20%20%20%20center%3A%20%5B39.0457549%2C%20-76.6412712%5D%2C%0A%20%20%20%20%20%20%20%20%20%20%20%20%20%20%20%20%20%20%20%20crs%3A%20L.CRS.EPSG3857%2C%0A%20%20%20%20%20%20%20%20%20%20%20%20%20%20%20%20%20%20%20%20zoom%3A%2010%2C%0A%20%20%20%20%20%20%20%20%20%20%20%20%20%20%20%20%20%20%20%20zoomControl%3A%20true%2C%0A%20%20%20%20%20%20%20%20%20%20%20%20%20%20%20%20%20%20%20%20preferCanvas%3A%20false%2C%0A%20%20%20%20%20%20%20%20%20%20%20%20%20%20%20%20%7D%0A%20%20%20%20%20%20%20%20%20%20%20%20%29%3B%0A%0A%20%20%20%20%20%20%20%20%20%20%20%20%0A%0A%20%20%20%20%20%20%20%20%0A%20%20%20%20%0A%20%20%20%20%20%20%20%20%20%20%20%20var%20tile_layer_2aeae21343e74da8afe1bec421283877%20%3D%20L.tileLayer%28%0A%20%20%20%20%20%20%20%20%20%20%20%20%20%20%20%20%22https%3A//%7Bs%7D.tile.openstreetmap.org/%7Bz%7D/%7Bx%7D/%7By%7D.png%22%2C%0A%20%20%20%20%20%20%20%20%20%20%20%20%20%20%20%20%7B%22attribution%22%3A%20%22Data%20by%20%5Cu0026copy%3B%20%5Cu003ca%20href%3D%5C%22http%3A//openstreetmap.org%5C%22%5Cu003eOpenStreetMap%5Cu003c/a%5Cu003e%2C%20under%20%5Cu003ca%20href%3D%5C%22http%3A//www.openstreetmap.org/copyright%5C%22%5Cu003eODbL%5Cu003c/a%5Cu003e.%22%2C%20%22detectRetina%22%3A%20false%2C%20%22maxNativeZoom%22%3A%2018%2C%20%22maxZoom%22%3A%2018%2C%20%22minZoom%22%3A%200%2C%20%22noWrap%22%3A%20false%2C%20%22opacity%22%3A%201%2C%20%22subdomains%22%3A%20%22abc%22%2C%20%22tms%22%3A%20false%7D%0A%20%20%20%20%20%20%20%20%20%20%20%20%29.addTo%28map_84e9973f121341ac9cd64eab15f10263%29%3B%0A%20%20%20%20%20%20%20%20%0A%3C/script%3E onload=\"this.contentDocument.open();this.contentDocument.write(    decodeURIComponent(this.getAttribute('data-html')));this.contentDocument.close();\" allowfullscreen webkitallowfullscreen mozallowfullscreen></iframe></div></div>"
     },
     "metadata": {}
    }
   ],
   "source": [
    "import folium\n",
    "# construct a map centered at the Eiffel \n",
    "college_park = folium.Map(location = [umd_latitude, umd_longitude], zoom_start = 10)\n",
    "# display the \n",
    "display(college_park)\n"
   ]
  },
  {
   "cell_type": "code",
   "execution_count": 27,
   "metadata": {},
   "outputs": [
    {
     "output_type": "execute_result",
     "data": {
      "text/plain": [
       "                                             coordinates        type\n",
       "0      [[-76.934163, 38.9906555], [-76.93428483333334...  MultiPoint\n",
       "1      [[-76.93818083333333, 38.982087166666666], [-7...  MultiPoint\n",
       "2      [[-76.93759983333334, 38.97961266666667], [-76...  MultiPoint\n",
       "3      [[-76.94355316666666, 38.982470166666666], [-7...  MultiPoint\n",
       "4      [[-76.93811566666666, 38.9820835], [-76.938261...  MultiPoint\n",
       "...                                                  ...         ...\n",
       "40320  [[-76.9439365, 38.98811], [-76.94407783333334,...  MultiPoint\n",
       "40321  [[-76.93591716666667, 38.98638866666667], [-76...  MultiPoint\n",
       "40322  [[-76.940231, 38.99637666666667], [-76.940162,...  MultiPoint\n",
       "40323  [[-76.9441525, 38.991955833333336], [-76.94412...  MultiPoint\n",
       "40324  [[-76.93416666666667, 38.99064533333333], [-76...  MultiPoint\n",
       "\n",
       "[40325 rows x 2 columns]"
      ],
      "text/html": "<div>\n<style scoped>\n    .dataframe tbody tr th:only-of-type {\n        vertical-align: middle;\n    }\n\n    .dataframe tbody tr th {\n        vertical-align: top;\n    }\n\n    .dataframe thead th {\n        text-align: right;\n    }\n</style>\n<table border=\"1\" class=\"dataframe\">\n  <thead>\n    <tr style=\"text-align: right;\">\n      <th></th>\n      <th>coordinates</th>\n      <th>type</th>\n    </tr>\n  </thead>\n  <tbody>\n    <tr>\n      <th>0</th>\n      <td>[[-76.934163, 38.9906555], [-76.93428483333334...</td>\n      <td>MultiPoint</td>\n    </tr>\n    <tr>\n      <th>1</th>\n      <td>[[-76.93818083333333, 38.982087166666666], [-7...</td>\n      <td>MultiPoint</td>\n    </tr>\n    <tr>\n      <th>2</th>\n      <td>[[-76.93759983333334, 38.97961266666667], [-76...</td>\n      <td>MultiPoint</td>\n    </tr>\n    <tr>\n      <th>3</th>\n      <td>[[-76.94355316666666, 38.982470166666666], [-7...</td>\n      <td>MultiPoint</td>\n    </tr>\n    <tr>\n      <th>4</th>\n      <td>[[-76.93811566666666, 38.9820835], [-76.938261...</td>\n      <td>MultiPoint</td>\n    </tr>\n    <tr>\n      <th>...</th>\n      <td>...</td>\n      <td>...</td>\n    </tr>\n    <tr>\n      <th>40320</th>\n      <td>[[-76.9439365, 38.98811], [-76.94407783333334,...</td>\n      <td>MultiPoint</td>\n    </tr>\n    <tr>\n      <th>40321</th>\n      <td>[[-76.93591716666667, 38.98638866666667], [-76...</td>\n      <td>MultiPoint</td>\n    </tr>\n    <tr>\n      <th>40322</th>\n      <td>[[-76.940231, 38.99637666666667], [-76.940162,...</td>\n      <td>MultiPoint</td>\n    </tr>\n    <tr>\n      <th>40323</th>\n      <td>[[-76.9441525, 38.991955833333336], [-76.94412...</td>\n      <td>MultiPoint</td>\n    </tr>\n    <tr>\n      <th>40324</th>\n      <td>[[-76.93416666666667, 38.99064533333333], [-76...</td>\n      <td>MultiPoint</td>\n    </tr>\n  </tbody>\n</table>\n<p>40325 rows × 2 columns</p>\n</div>"
     },
     "metadata": {},
     "execution_count": 27
    }
   ],
   "source": [
    "paths_list"
   ]
  },
  {
   "cell_type": "code",
   "execution_count": 33,
   "metadata": {},
   "outputs": [
    {
     "output_type": "execute_result",
     "data": {
      "text/plain": [
       "[[-76.934163, 38.9906555], [-76.93428483333334, 38.990738666666665]]"
      ]
     },
     "metadata": {},
     "execution_count": 33
    }
   ],
   "source": [
    "paths_list[\"coordinates\"][0]"
   ]
  },
  {
   "cell_type": "code",
   "execution_count": null,
   "metadata": {},
   "outputs": [],
   "source": []
  }
 ]
}