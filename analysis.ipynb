{
 "metadata": {
  "language_info": {
   "codemirror_mode": {
    "name": "ipython",
    "version": 3
   },
   "file_extension": ".py",
   "mimetype": "text/x-python",
   "name": "python",
   "nbconvert_exporter": "python",
   "pygments_lexer": "ipython3",
   "version": "3.8.8"
  },
  "orig_nbformat": 2,
  "kernelspec": {
   "name": "python3",
   "display_name": "Python 3.8.8 64-bit ('anaconda3': virtualenv)"
  },
  "metadata": {
   "interpreter": {
    "hash": "2db524e06e9f5f4ffedc911c917cb75e12dbc923643829bf417064a77eb14d37"
   }
  },
  "interpreter": {
   "hash": "6755aa49167bcdd6def9e8e324169bf6209b1ae9f05c70b157aa909078be9c06"
  }
 },
 "nbformat": 4,
 "nbformat_minor": 2,
 "cells": [
  {
   "cell_type": "code",
   "execution_count": 1,
   "metadata": {},
   "outputs": [],
   "source": [
    "import pandas as pd\n",
    "import numpy as np\n",
    "import json"
   ]
  },
  {
   "source": [
    "Importing the data as a dataframe."
   ],
   "cell_type": "markdown",
   "metadata": {}
  },
  {
   "cell_type": "code",
   "execution_count": 34,
   "metadata": {},
   "outputs": [],
   "source": [
    "dataset = pd.read_csv(\"data/Data_Lv3_UMDOTS_Escooters.csv\")"
   ]
  },
  {
   "source": [
    "Lets take a look at a few data point"
   ],
   "cell_type": "markdown",
   "metadata": {}
  },
  {
   "cell_type": "code",
   "execution_count": 40,
   "metadata": {},
   "outputs": [
    {
     "output_type": "execute_result",
     "data": {
      "text/plain": [
       "   Unnamed: 0  Unnamed: 0.1                   CREATED  \\\n",
       "0           0             0 2020-10-03 03:32:15+00:00   \n",
       "1           1             1 2020-10-03 03:07:39+00:00   \n",
       "2           2             2 2020-10-03 03:17:05+00:00   \n",
       "3           3             3 2020-10-03 02:24:58+00:00   \n",
       "4           4             4 2020-10-03 03:19:34+00:00   \n",
       "\n",
       "                      START                       END  DISTANCE  RIDE_ID  \\\n",
       "0 2020-10-03 03:32:15+00:00 2020-10-03 03:32:46+00:00     0.008  3135665   \n",
       "1 2020-10-03 03:07:39+00:00 2020-10-03 03:37:06+00:00     1.062  3135395   \n",
       "2 2020-10-03 03:17:05+00:00 2020-10-03 03:24:24+00:00     0.847  3135503   \n",
       "3 2020-10-03 02:24:58+00:00 2020-10-03 03:11:56+00:00     3.447  3134955   \n",
       "4 2020-10-03 03:19:34+00:00 2020-10-03 03:22:45+00:00     0.386  3135529   \n",
       "\n",
       "   CUSTOMER_ID  MINUTES VEHICLE_TYPE  \\\n",
       "0       193964        1      Scooter   \n",
       "1       542947       30      Scooter   \n",
       "2       517321        8      Scooter   \n",
       "3       578051       47      Scooter   \n",
       "4       552305        4      Scooter   \n",
       "\n",
       "                                                PATH  \\\n",
       "0  {\\n  \"coordinates\": [\\n    [\\n      -76.934163...   \n",
       "1  {\\n  \"coordinates\": [\\n    [\\n      -76.938180...   \n",
       "2  {\\n  \"coordinates\": [\\n    [\\n      -76.937599...   \n",
       "3  {\\n  \"coordinates\": [\\n    [\\n      -76.943553...   \n",
       "4  {\\n  \"coordinates\": [\\n    [\\n      -76.938115...   \n",
       "\n",
       "                                          TIMESTAMPS  START LONG  START LAT  \\\n",
       "0  [\\n  \"2020-10-03T03:32:14Z\",\\n  \"2020-10-03T03...  -76.934163  38.990656   \n",
       "1  [\\n  \"2020-10-03T03:07:46Z\",\\n  \"2020-10-03T03...  -76.938181  38.982087   \n",
       "2  [\\n  \"2020-10-03T03:17:12Z\",\\n  \"2020-10-03T03...  -76.937600  38.979613   \n",
       "3  [\\n  \"2020-10-03T02:25:04Z\",\\n  \"2020-10-03T02...  -76.943553  38.982470   \n",
       "4  [\\n  \"2020-10-03T03:19:40Z\",\\n  \"2020-10-03T03...  -76.938116  38.982084   \n",
       "\n",
       "    END LONG    END LAT  \n",
       "0 -76.934285  38.990739  \n",
       "1 -76.949165  38.992849  \n",
       "2 -76.933335  38.992676  \n",
       "3 -76.943546  38.982476  \n",
       "4 -76.943257  38.986101  "
      ],
      "text/html": "<div>\n<style scoped>\n    .dataframe tbody tr th:only-of-type {\n        vertical-align: middle;\n    }\n\n    .dataframe tbody tr th {\n        vertical-align: top;\n    }\n\n    .dataframe thead th {\n        text-align: right;\n    }\n</style>\n<table border=\"1\" class=\"dataframe\">\n  <thead>\n    <tr style=\"text-align: right;\">\n      <th></th>\n      <th>Unnamed: 0</th>\n      <th>Unnamed: 0.1</th>\n      <th>CREATED</th>\n      <th>START</th>\n      <th>END</th>\n      <th>DISTANCE</th>\n      <th>RIDE_ID</th>\n      <th>CUSTOMER_ID</th>\n      <th>MINUTES</th>\n      <th>VEHICLE_TYPE</th>\n      <th>PATH</th>\n      <th>TIMESTAMPS</th>\n      <th>START LONG</th>\n      <th>START LAT</th>\n      <th>END LONG</th>\n      <th>END LAT</th>\n    </tr>\n  </thead>\n  <tbody>\n    <tr>\n      <th>0</th>\n      <td>0</td>\n      <td>0</td>\n      <td>2020-10-03 03:32:15+00:00</td>\n      <td>2020-10-03 03:32:15+00:00</td>\n      <td>2020-10-03 03:32:46+00:00</td>\n      <td>0.008</td>\n      <td>3135665</td>\n      <td>193964</td>\n      <td>1</td>\n      <td>Scooter</td>\n      <td>{\\n  \"coordinates\": [\\n    [\\n      -76.934163...</td>\n      <td>[\\n  \"2020-10-03T03:32:14Z\",\\n  \"2020-10-03T03...</td>\n      <td>-76.934163</td>\n      <td>38.990656</td>\n      <td>-76.934285</td>\n      <td>38.990739</td>\n    </tr>\n    <tr>\n      <th>1</th>\n      <td>1</td>\n      <td>1</td>\n      <td>2020-10-03 03:07:39+00:00</td>\n      <td>2020-10-03 03:07:39+00:00</td>\n      <td>2020-10-03 03:37:06+00:00</td>\n      <td>1.062</td>\n      <td>3135395</td>\n      <td>542947</td>\n      <td>30</td>\n      <td>Scooter</td>\n      <td>{\\n  \"coordinates\": [\\n    [\\n      -76.938180...</td>\n      <td>[\\n  \"2020-10-03T03:07:46Z\",\\n  \"2020-10-03T03...</td>\n      <td>-76.938181</td>\n      <td>38.982087</td>\n      <td>-76.949165</td>\n      <td>38.992849</td>\n    </tr>\n    <tr>\n      <th>2</th>\n      <td>2</td>\n      <td>2</td>\n      <td>2020-10-03 03:17:05+00:00</td>\n      <td>2020-10-03 03:17:05+00:00</td>\n      <td>2020-10-03 03:24:24+00:00</td>\n      <td>0.847</td>\n      <td>3135503</td>\n      <td>517321</td>\n      <td>8</td>\n      <td>Scooter</td>\n      <td>{\\n  \"coordinates\": [\\n    [\\n      -76.937599...</td>\n      <td>[\\n  \"2020-10-03T03:17:12Z\",\\n  \"2020-10-03T03...</td>\n      <td>-76.937600</td>\n      <td>38.979613</td>\n      <td>-76.933335</td>\n      <td>38.992676</td>\n    </tr>\n    <tr>\n      <th>3</th>\n      <td>3</td>\n      <td>3</td>\n      <td>2020-10-03 02:24:58+00:00</td>\n      <td>2020-10-03 02:24:58+00:00</td>\n      <td>2020-10-03 03:11:56+00:00</td>\n      <td>3.447</td>\n      <td>3134955</td>\n      <td>578051</td>\n      <td>47</td>\n      <td>Scooter</td>\n      <td>{\\n  \"coordinates\": [\\n    [\\n      -76.943553...</td>\n      <td>[\\n  \"2020-10-03T02:25:04Z\",\\n  \"2020-10-03T02...</td>\n      <td>-76.943553</td>\n      <td>38.982470</td>\n      <td>-76.943546</td>\n      <td>38.982476</td>\n    </tr>\n    <tr>\n      <th>4</th>\n      <td>4</td>\n      <td>4</td>\n      <td>2020-10-03 03:19:34+00:00</td>\n      <td>2020-10-03 03:19:34+00:00</td>\n      <td>2020-10-03 03:22:45+00:00</td>\n      <td>0.386</td>\n      <td>3135529</td>\n      <td>552305</td>\n      <td>4</td>\n      <td>Scooter</td>\n      <td>{\\n  \"coordinates\": [\\n    [\\n      -76.938115...</td>\n      <td>[\\n  \"2020-10-03T03:19:40Z\",\\n  \"2020-10-03T03...</td>\n      <td>-76.938116</td>\n      <td>38.982084</td>\n      <td>-76.943257</td>\n      <td>38.986101</td>\n    </tr>\n  </tbody>\n</table>\n</div>"
     },
     "metadata": {},
     "execution_count": 40
    }
   ],
   "source": [
    "dataset.head()"
   ]
  },
  {
   "cell_type": "code",
   "execution_count": 19,
   "metadata": {},
   "outputs": [
    {
     "output_type": "execute_result",
     "data": {
      "text/plain": [
       "(40325, 16)"
      ]
     },
     "metadata": {},
     "execution_count": 19
    }
   ],
   "source": [
    "dataset.shape"
   ]
  },
  {
   "cell_type": "code",
   "execution_count": 39,
   "metadata": {},
   "outputs": [
    {
     "output_type": "execute_result",
     "data": {
      "text/plain": [
       "Unnamed: 0                    int64\n",
       "Unnamed: 0.1                  int64\n",
       "CREATED         datetime64[ns, UTC]\n",
       "START           datetime64[ns, UTC]\n",
       "END             datetime64[ns, UTC]\n",
       "DISTANCE                    float64\n",
       "RIDE_ID                       int64\n",
       "CUSTOMER_ID                   int64\n",
       "MINUTES                       int64\n",
       "VEHICLE_TYPE                 object\n",
       "PATH                         object\n",
       "TIMESTAMPS                   object\n",
       "START LONG                  float64\n",
       "START LAT                   float64\n",
       "END LONG                    float64\n",
       "END LAT                     float64\n",
       "dtype: object"
      ]
     },
     "metadata": {},
     "execution_count": 39
    }
   ],
   "source": [
    "dataset.dtypes"
   ]
  },
  {
   "cell_type": "code",
   "execution_count": 38,
   "metadata": {},
   "outputs": [],
   "source": [
    "# All the data types do not match lets fix them\n",
    "dataset[\"CREATED\"] = pd.to_datetime(dataset[\"CREATED\"])\n",
    "dataset[\"START\"] = pd.to_datetime(dataset[\"START\"])\n",
    "dataset[\"END\"] = pd.to_datetime(dataset[\"END\"])"
   ]
  },
  {
   "source": [
    "The dataset has 40325 rows and 16 columns"
   ],
   "cell_type": "markdown",
   "metadata": {}
  },
  {
   "cell_type": "code",
   "execution_count": 5,
   "metadata": {},
   "outputs": [
    {
     "output_type": "execute_result",
     "data": {
      "text/plain": [
       "Unnamed: 0      False\n",
       "Unnamed: 0.1    False\n",
       "CREATED         False\n",
       "START           False\n",
       "END             False\n",
       "DISTANCE         True\n",
       "RIDE_ID         False\n",
       "CUSTOMER_ID     False\n",
       "MINUTES         False\n",
       "VEHICLE_TYPE    False\n",
       "PATH            False\n",
       "TIMESTAMPS      False\n",
       "START LONG      False\n",
       "START LAT       False\n",
       "END LONG        False\n",
       "END LAT         False\n",
       "dtype: bool"
      ]
     },
     "metadata": {},
     "execution_count": 5
    }
   ],
   "source": [
    "dataset.isna().any()"
   ]
  },
  {
   "source": [
    "The distance column is missing values"
   ],
   "cell_type": "markdown",
   "metadata": {}
  },
  {
   "cell_type": "code",
   "execution_count": 12,
   "metadata": {},
   "outputs": [
    {
     "output_type": "execute_result",
     "data": {
      "text/plain": [
       "2273"
      ]
     },
     "metadata": {},
     "execution_count": 12
    }
   ],
   "source": [
    "dataset[\"DISTANCE\"].isna().sum()\n",
    "#dataset[\"DISTANCE\"].dropna()"
   ]
  },
  {
   "source": [
    "Total of 2273 missing datapoint for distance. No sure how to deal with this yet."
   ],
   "cell_type": "markdown",
   "metadata": {}
  },
  {
   "source": [
    "Next we separate all ride by years: October 2020 and October 2019"
   ],
   "cell_type": "markdown",
   "metadata": {}
  },
  {
   "cell_type": "code",
   "execution_count": 14,
   "metadata": {},
   "outputs": [
    {
     "output_type": "error",
     "ename": "AttributeError",
     "evalue": "'str' object has no attribute 'year'",
     "traceback": [
      "\u001b[0;31m---------------------------------------------------------------------------\u001b[0m",
      "\u001b[0;31mAttributeError\u001b[0m                            Traceback (most recent call last)",
      "\u001b[0;32m<ipython-input-14-305d08b45f4d>\u001b[0m in \u001b[0;36m<module>\u001b[0;34m\u001b[0m\n\u001b[0;32m----> 1\u001b[0;31m \u001b[0mdataset\u001b[0m\u001b[0;34m.\u001b[0m\u001b[0mgroupby\u001b[0m\u001b[0;34m(\u001b[0m\u001b[0;34m\"CREATED\"\u001b[0m\u001b[0;34m.\u001b[0m\u001b[0myear\u001b[0m\u001b[0;34m)\u001b[0m\u001b[0;34m\u001b[0m\u001b[0;34m\u001b[0m\u001b[0m\n\u001b[0m",
      "\u001b[0;31mAttributeError\u001b[0m: 'str' object has no attribute 'year'"
     ]
    }
   ],
   "source": [
    "dataset.groupby(\"CREATED\".year)"
   ]
  },
  {
   "cell_type": "code",
   "execution_count": null,
   "metadata": {},
   "outputs": [],
   "source": []
  }
 ]
}